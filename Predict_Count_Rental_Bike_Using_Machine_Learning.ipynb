{
  "cells": [
    {
      "cell_type": "markdown",
      "metadata": {
        "id": "9C3Yrw0krdFI"
      },
      "source": [
        "###Prediksi jumlah pengendara sepeda"
      ]
    },
    {
      "cell_type": "markdown",
      "metadata": {
        "id": "qtGacYXzJw_w"
      },
      "source": [
        "Sistem berbagi sepeda adalah generasi baru persewaan sepeda tradisional di mana seluruh proses mulai dari keanggotaan, persewaan, dan pengembalian menjadi otomatis. Melalui sistem ini, pengguna dapat dengan mudah menyewa sepeda dari posisi tertentu dan kembali lagi di posisi lain. Saat ini, ada lebih dari 500 program berbagi sepeda di seluruh dunia yang terdiri dari lebih dari 500 ribu sepeda. Saat ini, ada minat besar dalam sistem ini karena peran penting mereka dalam masalah lalu lintas, lingkungan dan kesehatan. Terlepas dari aplikasi dunia nyata yang menarik dari sistem berbagi sepeda, karakteristik data yang dihasilkan oleh sistem ini membuatnya menarik untuk penelitian. Berlawanan dengan layanan transportasi lain seperti bus atau kereta bawah tanah, durasi perjalanan, posisi keberangkatan dan kedatangan dicatat secara eksplisit dalam sistem ini."
      ]
    },
    {
      "cell_type": "markdown",
      "metadata": {
        "id": "HgY-euG2YXsz"
      },
      "source": [
        "catatan lenght x"
      ]
    },
    {
      "cell_type": "markdown",
      "metadata": {
        "id": "244h07T8yXei"
      },
      "source": [
        "##import librarry"
      ]
    },
    {
      "cell_type": "code",
      "execution_count": 368,
      "metadata": {
        "id": "ggNyoK6FqB3C"
      },
      "outputs": [],
      "source": [
        "# Import library\n",
        "import numpy as np\n",
        "import pandas as pd\n",
        "import matplotlib.pyplot as plt\n",
        "import seaborn as sns\n",
        "sns.set(rc={'axes.facecolor':'#cacccf'})\n",
        "import plotly.express as px\n",
        "from sklearn.preprocessing import MinMaxScaler\n",
        "import warnings\n",
        "warnings.filterwarnings(\"ignore\")"
      ]
    },
    {
      "cell_type": "code",
      "execution_count": 369,
      "metadata": {
        "colab": {
          "base_uri": "https://localhost:8080/",
          "height": 206
        },
        "id": "KNlBOOCtqZRj",
        "outputId": "9a3aced6-6610-4fe6-d33b-b720d4fa51e9"
      },
      "outputs": [
        {
          "output_type": "execute_result",
          "data": {
            "text/plain": [
              "   instant      dteday  season  yr  mnth  hr  holiday  weekday  workingday  \\\n",
              "0        1  2011-01-01       1   0     1   0        0        6           0   \n",
              "1        2  2011-01-01       1   0     1   1        0        6           0   \n",
              "2        3  2011-01-01       1   0     1   2        0        6           0   \n",
              "3        4  2011-01-01       1   0     1   3        0        6           0   \n",
              "4        5  2011-01-01       1   0     1   4        0        6           0   \n",
              "\n",
              "   weathersit  temp  atemp  hum  windspeed  casual  registered  cnt  \n",
              "0           1  0.24   0.29 0.81       0.00       3          13   16  \n",
              "1           1  0.22   0.27 0.80       0.00       8          32   40  \n",
              "2           1  0.22   0.27 0.80       0.00       5          27   32  \n",
              "3           1  0.24   0.29 0.75       0.00       3          10   13  \n",
              "4           1  0.24   0.29 0.75       0.00       0           1    1  "
            ],
            "text/html": [
              "\n",
              "  <div id=\"df-2e750af9-c560-44f3-a0d5-391c1fd27f5a\">\n",
              "    <div class=\"colab-df-container\">\n",
              "      <div>\n",
              "<style scoped>\n",
              "    .dataframe tbody tr th:only-of-type {\n",
              "        vertical-align: middle;\n",
              "    }\n",
              "\n",
              "    .dataframe tbody tr th {\n",
              "        vertical-align: top;\n",
              "    }\n",
              "\n",
              "    .dataframe thead th {\n",
              "        text-align: right;\n",
              "    }\n",
              "</style>\n",
              "<table border=\"1\" class=\"dataframe\">\n",
              "  <thead>\n",
              "    <tr style=\"text-align: right;\">\n",
              "      <th></th>\n",
              "      <th>instant</th>\n",
              "      <th>dteday</th>\n",
              "      <th>season</th>\n",
              "      <th>yr</th>\n",
              "      <th>mnth</th>\n",
              "      <th>hr</th>\n",
              "      <th>holiday</th>\n",
              "      <th>weekday</th>\n",
              "      <th>workingday</th>\n",
              "      <th>weathersit</th>\n",
              "      <th>temp</th>\n",
              "      <th>atemp</th>\n",
              "      <th>hum</th>\n",
              "      <th>windspeed</th>\n",
              "      <th>casual</th>\n",
              "      <th>registered</th>\n",
              "      <th>cnt</th>\n",
              "    </tr>\n",
              "  </thead>\n",
              "  <tbody>\n",
              "    <tr>\n",
              "      <th>0</th>\n",
              "      <td>1</td>\n",
              "      <td>2011-01-01</td>\n",
              "      <td>1</td>\n",
              "      <td>0</td>\n",
              "      <td>1</td>\n",
              "      <td>0</td>\n",
              "      <td>0</td>\n",
              "      <td>6</td>\n",
              "      <td>0</td>\n",
              "      <td>1</td>\n",
              "      <td>0.24</td>\n",
              "      <td>0.29</td>\n",
              "      <td>0.81</td>\n",
              "      <td>0.00</td>\n",
              "      <td>3</td>\n",
              "      <td>13</td>\n",
              "      <td>16</td>\n",
              "    </tr>\n",
              "    <tr>\n",
              "      <th>1</th>\n",
              "      <td>2</td>\n",
              "      <td>2011-01-01</td>\n",
              "      <td>1</td>\n",
              "      <td>0</td>\n",
              "      <td>1</td>\n",
              "      <td>1</td>\n",
              "      <td>0</td>\n",
              "      <td>6</td>\n",
              "      <td>0</td>\n",
              "      <td>1</td>\n",
              "      <td>0.22</td>\n",
              "      <td>0.27</td>\n",
              "      <td>0.80</td>\n",
              "      <td>0.00</td>\n",
              "      <td>8</td>\n",
              "      <td>32</td>\n",
              "      <td>40</td>\n",
              "    </tr>\n",
              "    <tr>\n",
              "      <th>2</th>\n",
              "      <td>3</td>\n",
              "      <td>2011-01-01</td>\n",
              "      <td>1</td>\n",
              "      <td>0</td>\n",
              "      <td>1</td>\n",
              "      <td>2</td>\n",
              "      <td>0</td>\n",
              "      <td>6</td>\n",
              "      <td>0</td>\n",
              "      <td>1</td>\n",
              "      <td>0.22</td>\n",
              "      <td>0.27</td>\n",
              "      <td>0.80</td>\n",
              "      <td>0.00</td>\n",
              "      <td>5</td>\n",
              "      <td>27</td>\n",
              "      <td>32</td>\n",
              "    </tr>\n",
              "    <tr>\n",
              "      <th>3</th>\n",
              "      <td>4</td>\n",
              "      <td>2011-01-01</td>\n",
              "      <td>1</td>\n",
              "      <td>0</td>\n",
              "      <td>1</td>\n",
              "      <td>3</td>\n",
              "      <td>0</td>\n",
              "      <td>6</td>\n",
              "      <td>0</td>\n",
              "      <td>1</td>\n",
              "      <td>0.24</td>\n",
              "      <td>0.29</td>\n",
              "      <td>0.75</td>\n",
              "      <td>0.00</td>\n",
              "      <td>3</td>\n",
              "      <td>10</td>\n",
              "      <td>13</td>\n",
              "    </tr>\n",
              "    <tr>\n",
              "      <th>4</th>\n",
              "      <td>5</td>\n",
              "      <td>2011-01-01</td>\n",
              "      <td>1</td>\n",
              "      <td>0</td>\n",
              "      <td>1</td>\n",
              "      <td>4</td>\n",
              "      <td>0</td>\n",
              "      <td>6</td>\n",
              "      <td>0</td>\n",
              "      <td>1</td>\n",
              "      <td>0.24</td>\n",
              "      <td>0.29</td>\n",
              "      <td>0.75</td>\n",
              "      <td>0.00</td>\n",
              "      <td>0</td>\n",
              "      <td>1</td>\n",
              "      <td>1</td>\n",
              "    </tr>\n",
              "  </tbody>\n",
              "</table>\n",
              "</div>\n",
              "      <button class=\"colab-df-convert\" onclick=\"convertToInteractive('df-2e750af9-c560-44f3-a0d5-391c1fd27f5a')\"\n",
              "              title=\"Convert this dataframe to an interactive table.\"\n",
              "              style=\"display:none;\">\n",
              "        \n",
              "  <svg xmlns=\"http://www.w3.org/2000/svg\" height=\"24px\"viewBox=\"0 0 24 24\"\n",
              "       width=\"24px\">\n",
              "    <path d=\"M0 0h24v24H0V0z\" fill=\"none\"/>\n",
              "    <path d=\"M18.56 5.44l.94 2.06.94-2.06 2.06-.94-2.06-.94-.94-2.06-.94 2.06-2.06.94zm-11 1L8.5 8.5l.94-2.06 2.06-.94-2.06-.94L8.5 2.5l-.94 2.06-2.06.94zm10 10l.94 2.06.94-2.06 2.06-.94-2.06-.94-.94-2.06-.94 2.06-2.06.94z\"/><path d=\"M17.41 7.96l-1.37-1.37c-.4-.4-.92-.59-1.43-.59-.52 0-1.04.2-1.43.59L10.3 9.45l-7.72 7.72c-.78.78-.78 2.05 0 2.83L4 21.41c.39.39.9.59 1.41.59.51 0 1.02-.2 1.41-.59l7.78-7.78 2.81-2.81c.8-.78.8-2.07 0-2.86zM5.41 20L4 18.59l7.72-7.72 1.47 1.35L5.41 20z\"/>\n",
              "  </svg>\n",
              "      </button>\n",
              "      \n",
              "  <style>\n",
              "    .colab-df-container {\n",
              "      display:flex;\n",
              "      flex-wrap:wrap;\n",
              "      gap: 12px;\n",
              "    }\n",
              "\n",
              "    .colab-df-convert {\n",
              "      background-color: #E8F0FE;\n",
              "      border: none;\n",
              "      border-radius: 50%;\n",
              "      cursor: pointer;\n",
              "      display: none;\n",
              "      fill: #1967D2;\n",
              "      height: 32px;\n",
              "      padding: 0 0 0 0;\n",
              "      width: 32px;\n",
              "    }\n",
              "\n",
              "    .colab-df-convert:hover {\n",
              "      background-color: #E2EBFA;\n",
              "      box-shadow: 0px 1px 2px rgba(60, 64, 67, 0.3), 0px 1px 3px 1px rgba(60, 64, 67, 0.15);\n",
              "      fill: #174EA6;\n",
              "    }\n",
              "\n",
              "    [theme=dark] .colab-df-convert {\n",
              "      background-color: #3B4455;\n",
              "      fill: #D2E3FC;\n",
              "    }\n",
              "\n",
              "    [theme=dark] .colab-df-convert:hover {\n",
              "      background-color: #434B5C;\n",
              "      box-shadow: 0px 1px 3px 1px rgba(0, 0, 0, 0.15);\n",
              "      filter: drop-shadow(0px 1px 2px rgba(0, 0, 0, 0.3));\n",
              "      fill: #FFFFFF;\n",
              "    }\n",
              "  </style>\n",
              "\n",
              "      <script>\n",
              "        const buttonEl =\n",
              "          document.querySelector('#df-2e750af9-c560-44f3-a0d5-391c1fd27f5a button.colab-df-convert');\n",
              "        buttonEl.style.display =\n",
              "          google.colab.kernel.accessAllowed ? 'block' : 'none';\n",
              "\n",
              "        async function convertToInteractive(key) {\n",
              "          const element = document.querySelector('#df-2e750af9-c560-44f3-a0d5-391c1fd27f5a');\n",
              "          const dataTable =\n",
              "            await google.colab.kernel.invokeFunction('convertToInteractive',\n",
              "                                                     [key], {});\n",
              "          if (!dataTable) return;\n",
              "\n",
              "          const docLinkHtml = 'Like what you see? Visit the ' +\n",
              "            '<a target=\"_blank\" href=https://colab.research.google.com/notebooks/data_table.ipynb>data table notebook</a>'\n",
              "            + ' to learn more about interactive tables.';\n",
              "          element.innerHTML = '';\n",
              "          dataTable['output_type'] = 'display_data';\n",
              "          await google.colab.output.renderOutput(dataTable, element);\n",
              "          const docLink = document.createElement('div');\n",
              "          docLink.innerHTML = docLinkHtml;\n",
              "          element.appendChild(docLink);\n",
              "        }\n",
              "      </script>\n",
              "    </div>\n",
              "  </div>\n",
              "  "
            ]
          },
          "metadata": {},
          "execution_count": 369
        }
      ],
      "source": [
        "df = pd.read_csv('hour.csv')\n",
        "df.head(5)"
      ]
    },
    {
      "cell_type": "code",
      "source": [
        "dfm = pd.read_csv('day.csv')\n",
        "df.head(5)"
      ],
      "metadata": {
        "colab": {
          "base_uri": "https://localhost:8080/",
          "height": 206
        },
        "id": "WXZnpbBmbUqT",
        "outputId": "1aa6e951-2a2f-4e1b-9d72-243623591194"
      },
      "execution_count": 370,
      "outputs": [
        {
          "output_type": "execute_result",
          "data": {
            "text/plain": [
              "   instant      dteday  season  yr  mnth  hr  holiday  weekday  workingday  \\\n",
              "0        1  2011-01-01       1   0     1   0        0        6           0   \n",
              "1        2  2011-01-01       1   0     1   1        0        6           0   \n",
              "2        3  2011-01-01       1   0     1   2        0        6           0   \n",
              "3        4  2011-01-01       1   0     1   3        0        6           0   \n",
              "4        5  2011-01-01       1   0     1   4        0        6           0   \n",
              "\n",
              "   weathersit  temp  atemp  hum  windspeed  casual  registered  cnt  \n",
              "0           1  0.24   0.29 0.81       0.00       3          13   16  \n",
              "1           1  0.22   0.27 0.80       0.00       8          32   40  \n",
              "2           1  0.22   0.27 0.80       0.00       5          27   32  \n",
              "3           1  0.24   0.29 0.75       0.00       3          10   13  \n",
              "4           1  0.24   0.29 0.75       0.00       0           1    1  "
            ],
            "text/html": [
              "\n",
              "  <div id=\"df-fab7be37-f184-4f4d-8648-ed8b1b91f54d\">\n",
              "    <div class=\"colab-df-container\">\n",
              "      <div>\n",
              "<style scoped>\n",
              "    .dataframe tbody tr th:only-of-type {\n",
              "        vertical-align: middle;\n",
              "    }\n",
              "\n",
              "    .dataframe tbody tr th {\n",
              "        vertical-align: top;\n",
              "    }\n",
              "\n",
              "    .dataframe thead th {\n",
              "        text-align: right;\n",
              "    }\n",
              "</style>\n",
              "<table border=\"1\" class=\"dataframe\">\n",
              "  <thead>\n",
              "    <tr style=\"text-align: right;\">\n",
              "      <th></th>\n",
              "      <th>instant</th>\n",
              "      <th>dteday</th>\n",
              "      <th>season</th>\n",
              "      <th>yr</th>\n",
              "      <th>mnth</th>\n",
              "      <th>hr</th>\n",
              "      <th>holiday</th>\n",
              "      <th>weekday</th>\n",
              "      <th>workingday</th>\n",
              "      <th>weathersit</th>\n",
              "      <th>temp</th>\n",
              "      <th>atemp</th>\n",
              "      <th>hum</th>\n",
              "      <th>windspeed</th>\n",
              "      <th>casual</th>\n",
              "      <th>registered</th>\n",
              "      <th>cnt</th>\n",
              "    </tr>\n",
              "  </thead>\n",
              "  <tbody>\n",
              "    <tr>\n",
              "      <th>0</th>\n",
              "      <td>1</td>\n",
              "      <td>2011-01-01</td>\n",
              "      <td>1</td>\n",
              "      <td>0</td>\n",
              "      <td>1</td>\n",
              "      <td>0</td>\n",
              "      <td>0</td>\n",
              "      <td>6</td>\n",
              "      <td>0</td>\n",
              "      <td>1</td>\n",
              "      <td>0.24</td>\n",
              "      <td>0.29</td>\n",
              "      <td>0.81</td>\n",
              "      <td>0.00</td>\n",
              "      <td>3</td>\n",
              "      <td>13</td>\n",
              "      <td>16</td>\n",
              "    </tr>\n",
              "    <tr>\n",
              "      <th>1</th>\n",
              "      <td>2</td>\n",
              "      <td>2011-01-01</td>\n",
              "      <td>1</td>\n",
              "      <td>0</td>\n",
              "      <td>1</td>\n",
              "      <td>1</td>\n",
              "      <td>0</td>\n",
              "      <td>6</td>\n",
              "      <td>0</td>\n",
              "      <td>1</td>\n",
              "      <td>0.22</td>\n",
              "      <td>0.27</td>\n",
              "      <td>0.80</td>\n",
              "      <td>0.00</td>\n",
              "      <td>8</td>\n",
              "      <td>32</td>\n",
              "      <td>40</td>\n",
              "    </tr>\n",
              "    <tr>\n",
              "      <th>2</th>\n",
              "      <td>3</td>\n",
              "      <td>2011-01-01</td>\n",
              "      <td>1</td>\n",
              "      <td>0</td>\n",
              "      <td>1</td>\n",
              "      <td>2</td>\n",
              "      <td>0</td>\n",
              "      <td>6</td>\n",
              "      <td>0</td>\n",
              "      <td>1</td>\n",
              "      <td>0.22</td>\n",
              "      <td>0.27</td>\n",
              "      <td>0.80</td>\n",
              "      <td>0.00</td>\n",
              "      <td>5</td>\n",
              "      <td>27</td>\n",
              "      <td>32</td>\n",
              "    </tr>\n",
              "    <tr>\n",
              "      <th>3</th>\n",
              "      <td>4</td>\n",
              "      <td>2011-01-01</td>\n",
              "      <td>1</td>\n",
              "      <td>0</td>\n",
              "      <td>1</td>\n",
              "      <td>3</td>\n",
              "      <td>0</td>\n",
              "      <td>6</td>\n",
              "      <td>0</td>\n",
              "      <td>1</td>\n",
              "      <td>0.24</td>\n",
              "      <td>0.29</td>\n",
              "      <td>0.75</td>\n",
              "      <td>0.00</td>\n",
              "      <td>3</td>\n",
              "      <td>10</td>\n",
              "      <td>13</td>\n",
              "    </tr>\n",
              "    <tr>\n",
              "      <th>4</th>\n",
              "      <td>5</td>\n",
              "      <td>2011-01-01</td>\n",
              "      <td>1</td>\n",
              "      <td>0</td>\n",
              "      <td>1</td>\n",
              "      <td>4</td>\n",
              "      <td>0</td>\n",
              "      <td>6</td>\n",
              "      <td>0</td>\n",
              "      <td>1</td>\n",
              "      <td>0.24</td>\n",
              "      <td>0.29</td>\n",
              "      <td>0.75</td>\n",
              "      <td>0.00</td>\n",
              "      <td>0</td>\n",
              "      <td>1</td>\n",
              "      <td>1</td>\n",
              "    </tr>\n",
              "  </tbody>\n",
              "</table>\n",
              "</div>\n",
              "      <button class=\"colab-df-convert\" onclick=\"convertToInteractive('df-fab7be37-f184-4f4d-8648-ed8b1b91f54d')\"\n",
              "              title=\"Convert this dataframe to an interactive table.\"\n",
              "              style=\"display:none;\">\n",
              "        \n",
              "  <svg xmlns=\"http://www.w3.org/2000/svg\" height=\"24px\"viewBox=\"0 0 24 24\"\n",
              "       width=\"24px\">\n",
              "    <path d=\"M0 0h24v24H0V0z\" fill=\"none\"/>\n",
              "    <path d=\"M18.56 5.44l.94 2.06.94-2.06 2.06-.94-2.06-.94-.94-2.06-.94 2.06-2.06.94zm-11 1L8.5 8.5l.94-2.06 2.06-.94-2.06-.94L8.5 2.5l-.94 2.06-2.06.94zm10 10l.94 2.06.94-2.06 2.06-.94-2.06-.94-.94-2.06-.94 2.06-2.06.94z\"/><path d=\"M17.41 7.96l-1.37-1.37c-.4-.4-.92-.59-1.43-.59-.52 0-1.04.2-1.43.59L10.3 9.45l-7.72 7.72c-.78.78-.78 2.05 0 2.83L4 21.41c.39.39.9.59 1.41.59.51 0 1.02-.2 1.41-.59l7.78-7.78 2.81-2.81c.8-.78.8-2.07 0-2.86zM5.41 20L4 18.59l7.72-7.72 1.47 1.35L5.41 20z\"/>\n",
              "  </svg>\n",
              "      </button>\n",
              "      \n",
              "  <style>\n",
              "    .colab-df-container {\n",
              "      display:flex;\n",
              "      flex-wrap:wrap;\n",
              "      gap: 12px;\n",
              "    }\n",
              "\n",
              "    .colab-df-convert {\n",
              "      background-color: #E8F0FE;\n",
              "      border: none;\n",
              "      border-radius: 50%;\n",
              "      cursor: pointer;\n",
              "      display: none;\n",
              "      fill: #1967D2;\n",
              "      height: 32px;\n",
              "      padding: 0 0 0 0;\n",
              "      width: 32px;\n",
              "    }\n",
              "\n",
              "    .colab-df-convert:hover {\n",
              "      background-color: #E2EBFA;\n",
              "      box-shadow: 0px 1px 2px rgba(60, 64, 67, 0.3), 0px 1px 3px 1px rgba(60, 64, 67, 0.15);\n",
              "      fill: #174EA6;\n",
              "    }\n",
              "\n",
              "    [theme=dark] .colab-df-convert {\n",
              "      background-color: #3B4455;\n",
              "      fill: #D2E3FC;\n",
              "    }\n",
              "\n",
              "    [theme=dark] .colab-df-convert:hover {\n",
              "      background-color: #434B5C;\n",
              "      box-shadow: 0px 1px 3px 1px rgba(0, 0, 0, 0.15);\n",
              "      filter: drop-shadow(0px 1px 2px rgba(0, 0, 0, 0.3));\n",
              "      fill: #FFFFFF;\n",
              "    }\n",
              "  </style>\n",
              "\n",
              "      <script>\n",
              "        const buttonEl =\n",
              "          document.querySelector('#df-fab7be37-f184-4f4d-8648-ed8b1b91f54d button.colab-df-convert');\n",
              "        buttonEl.style.display =\n",
              "          google.colab.kernel.accessAllowed ? 'block' : 'none';\n",
              "\n",
              "        async function convertToInteractive(key) {\n",
              "          const element = document.querySelector('#df-fab7be37-f184-4f4d-8648-ed8b1b91f54d');\n",
              "          const dataTable =\n",
              "            await google.colab.kernel.invokeFunction('convertToInteractive',\n",
              "                                                     [key], {});\n",
              "          if (!dataTable) return;\n",
              "\n",
              "          const docLinkHtml = 'Like what you see? Visit the ' +\n",
              "            '<a target=\"_blank\" href=https://colab.research.google.com/notebooks/data_table.ipynb>data table notebook</a>'\n",
              "            + ' to learn more about interactive tables.';\n",
              "          element.innerHTML = '';\n",
              "          dataTable['output_type'] = 'display_data';\n",
              "          await google.colab.output.renderOutput(dataTable, element);\n",
              "          const docLink = document.createElement('div');\n",
              "          docLink.innerHTML = docLinkHtml;\n",
              "          element.appendChild(docLink);\n",
              "        }\n",
              "      </script>\n",
              "    </div>\n",
              "  </div>\n",
              "  "
            ]
          },
          "metadata": {},
          "execution_count": 370
        }
      ]
    },
    {
      "cell_type": "markdown",
      "metadata": {
        "id": "6Su4rlBnu48y"
      },
      "source": [
        "1. dteday = tanggal pemakaian sepeda\n",
        "2. season = musim yang terbagi menjadi (1:winter, 2:spring, 3:summer, 4:fall)\n",
        "3. yr = tahun\n",
        "4. mnth = bulan\n",
        "5. hr = jam\n",
        "6. holiday = hari libur(1) dan bukan hari libur (0)\n",
        "7. weekday = hari dalam seminggu\n",
        "8. workingday = hari kerja (1) dan bukan hari kerja (0)\n",
        "9. weathersit = clear (1), cloudy(2), light rain(3), snow thunderstorm (4)\n",
        "10. temp = tempratur, dengan nilai (t-tmin)/(tmax-tmin), tmin=-8, t_max=+39.\n",
        "11. atemp = tempratur feeling, dengan nilai (t-tmin)/(tmax-tmin), tmin=-16, t_max=+50 \n",
        "12. hum = kelembaban\n",
        "13. windspeed = kecepatan angin\n",
        "14. casual = pengguna biasa\n",
        "15. registred = pengguna terdaftar\n",
        "16. cnt = jumlah total pengguna"
      ]
    },
    {
      "cell_type": "markdown",
      "metadata": {
        "id": "WM9kxm1IydWk"
      },
      "source": [
        "##data cleaning"
      ]
    },
    {
      "cell_type": "code",
      "execution_count": 371,
      "metadata": {
        "colab": {
          "base_uri": "https://localhost:8080/"
        },
        "id": "2wSnfKy3qpbg",
        "outputId": "60bc7d06-acef-4b03-9122-5dfb6bdfd321"
      },
      "outputs": [
        {
          "output_type": "execute_result",
          "data": {
            "text/plain": [
              "(17379, 17)"
            ]
          },
          "metadata": {},
          "execution_count": 371
        }
      ],
      "source": [
        "df.shape"
      ]
    },
    {
      "cell_type": "code",
      "execution_count": 372,
      "metadata": {
        "colab": {
          "base_uri": "https://localhost:8080/"
        },
        "id": "P7MsOvjIrahn",
        "outputId": "c4fd1738-c882-43a5-ea4e-2dc2e5a7bb07"
      },
      "outputs": [
        {
          "output_type": "stream",
          "name": "stdout",
          "text": [
            "<class 'pandas.core.frame.DataFrame'>\n",
            "RangeIndex: 17379 entries, 0 to 17378\n",
            "Data columns (total 17 columns):\n",
            " #   Column      Non-Null Count  Dtype  \n",
            "---  ------      --------------  -----  \n",
            " 0   instant     17379 non-null  int64  \n",
            " 1   dteday      17379 non-null  object \n",
            " 2   season      17379 non-null  int64  \n",
            " 3   yr          17379 non-null  int64  \n",
            " 4   mnth        17379 non-null  int64  \n",
            " 5   hr          17379 non-null  int64  \n",
            " 6   holiday     17379 non-null  int64  \n",
            " 7   weekday     17379 non-null  int64  \n",
            " 8   workingday  17379 non-null  int64  \n",
            " 9   weathersit  17379 non-null  int64  \n",
            " 10  temp        17379 non-null  float64\n",
            " 11  atemp       17379 non-null  float64\n",
            " 12  hum         17379 non-null  float64\n",
            " 13  windspeed   17379 non-null  float64\n",
            " 14  casual      17379 non-null  int64  \n",
            " 15  registered  17379 non-null  int64  \n",
            " 16  cnt         17379 non-null  int64  \n",
            "dtypes: float64(4), int64(12), object(1)\n",
            "memory usage: 2.3+ MB\n"
          ]
        }
      ],
      "source": [
        "df.info()"
      ]
    },
    {
      "cell_type": "code",
      "execution_count": 373,
      "metadata": {
        "colab": {
          "base_uri": "https://localhost:8080/"
        },
        "id": "WT0uy5Nbroww",
        "outputId": "2361848e-5602-419e-9706-1807d5eff0e2"
      },
      "outputs": [
        {
          "output_type": "execute_result",
          "data": {
            "text/plain": [
              "instant       0\n",
              "dteday        0\n",
              "season        0\n",
              "yr            0\n",
              "mnth          0\n",
              "hr            0\n",
              "holiday       0\n",
              "weekday       0\n",
              "workingday    0\n",
              "weathersit    0\n",
              "temp          0\n",
              "atemp         0\n",
              "hum           0\n",
              "windspeed     0\n",
              "casual        0\n",
              "registered    0\n",
              "cnt           0\n",
              "dtype: int64"
            ]
          },
          "metadata": {},
          "execution_count": 373
        }
      ],
      "source": [
        "df.isnull().sum()"
      ]
    },
    {
      "cell_type": "code",
      "source": [
        "dfm.isnull().sum()"
      ],
      "metadata": {
        "colab": {
          "base_uri": "https://localhost:8080/"
        },
        "id": "Pp4KS610bZwd",
        "outputId": "e66856f8-02ff-4d25-c9a2-65d995b7c880"
      },
      "execution_count": 374,
      "outputs": [
        {
          "output_type": "execute_result",
          "data": {
            "text/plain": [
              "instant       0\n",
              "dteday        0\n",
              "season        0\n",
              "yr            0\n",
              "mnth          0\n",
              "holiday       0\n",
              "weekday       0\n",
              "workingday    0\n",
              "weathersit    0\n",
              "temp          0\n",
              "atemp         0\n",
              "hum           0\n",
              "windspeed     0\n",
              "casual        0\n",
              "registered    0\n",
              "cnt           0\n",
              "dtype: int64"
            ]
          },
          "metadata": {},
          "execution_count": 374
        }
      ]
    },
    {
      "cell_type": "code",
      "execution_count": 375,
      "metadata": {
        "colab": {
          "base_uri": "https://localhost:8080/"
        },
        "id": "WyeMNWB9tI3v",
        "outputId": "0af83200-fd35-4695-9e39-f00e9cd4ae4f"
      },
      "outputs": [
        {
          "output_type": "execute_result",
          "data": {
            "text/plain": [
              "0"
            ]
          },
          "metadata": {},
          "execution_count": 375
        }
      ],
      "source": [
        "df.duplicated().sum()"
      ]
    },
    {
      "cell_type": "markdown",
      "metadata": {
        "id": "dg-mn1OxtR55"
      },
      "source": [
        "menghapus kolom berikut :\n",
        "1. kolom dteday dan karena mnth dan weekend sudah cukup untuk mengerti kapan peminjaman\n",
        "2. instant karena tidak memerlukan penomoran\n",
        "3. casual dan registred, karena cuman mengambil jumlah total pengguna\n",
        "4. atemp, karena temp sudah cukup"
      ]
    },
    {
      "cell_type": "code",
      "execution_count": 376,
      "metadata": {
        "id": "92dNpy73wQju"
      },
      "outputs": [],
      "source": [
        "df=df.drop(['dteday','instant','casual','registered'],1)\n",
        "dfm=dfm.drop(['dteday','instant','casual','registered'],1)"
      ]
    },
    {
      "cell_type": "code",
      "execution_count": 377,
      "metadata": {
        "id": "wwactkg6PxUV"
      },
      "outputs": [],
      "source": [
        "#ubah nama kolom\n",
        "dfm.rename(columns={'season' : 'Musim', 'weekday' : 'Hari','mnth' : 'Bulan', 'weathersit' : 'Cuaca','holiday' : 'Hari_Libur','workingday' : 'Hari_Kerja', 'temp' : 'Suhu', 'hum' : 'Kelembaban', 'windspeed' : 'Kecepatan_Angin', 'cnt' : 'Jumlah','atemp' : 'Suhu yang Dirasakan', 'yr' : 'Tahun'  }, inplace=True)\n",
        "#ubah nama kolom\n",
        "df.rename(columns={'season' : 'Musim', 'weekday' : 'Hari','mnth' : 'Bulan', 'weathersit' : 'Cuaca','holiday' : 'Hari_Libur','workingday' : 'Hari_Kerja', 'temp' : 'Suhu', 'hum' : 'Kelembaban', 'windspeed' : 'Kecepatan_Angin', 'cnt' : 'Jumlah', 'hr' : 'Jam','atemp' : 'Suhu yang Dirasakan', 'yr' : 'Tahun'  }, inplace=True)"
      ]
    },
    {
      "cell_type": "code",
      "execution_count": 378,
      "metadata": {
        "colab": {
          "base_uri": "https://localhost:8080/",
          "height": 206
        },
        "id": "ayB7gIBqxc9t",
        "outputId": "afee7e95-9e08-4e25-bf52-11639da09c38"
      },
      "outputs": [
        {
          "output_type": "execute_result",
          "data": {
            "text/plain": [
              "   Musim  Tahun  Bulan  Jam  Hari_Libur  Hari  Hari_Kerja  Cuaca  Suhu  \\\n",
              "0      1      0      1    0           0     6           0      1  0.24   \n",
              "1      1      0      1    1           0     6           0      1  0.22   \n",
              "2      1      0      1    2           0     6           0      1  0.22   \n",
              "3      1      0      1    3           0     6           0      1  0.24   \n",
              "4      1      0      1    4           0     6           0      1  0.24   \n",
              "\n",
              "   Suhu yang Dirasakan  Kelembaban  Kecepatan_Angin  Jumlah  \n",
              "0                 0.29        0.81             0.00      16  \n",
              "1                 0.27        0.80             0.00      40  \n",
              "2                 0.27        0.80             0.00      32  \n",
              "3                 0.29        0.75             0.00      13  \n",
              "4                 0.29        0.75             0.00       1  "
            ],
            "text/html": [
              "\n",
              "  <div id=\"df-7793ec1e-1764-4c08-b5d5-22d2d66c1f1d\">\n",
              "    <div class=\"colab-df-container\">\n",
              "      <div>\n",
              "<style scoped>\n",
              "    .dataframe tbody tr th:only-of-type {\n",
              "        vertical-align: middle;\n",
              "    }\n",
              "\n",
              "    .dataframe tbody tr th {\n",
              "        vertical-align: top;\n",
              "    }\n",
              "\n",
              "    .dataframe thead th {\n",
              "        text-align: right;\n",
              "    }\n",
              "</style>\n",
              "<table border=\"1\" class=\"dataframe\">\n",
              "  <thead>\n",
              "    <tr style=\"text-align: right;\">\n",
              "      <th></th>\n",
              "      <th>Musim</th>\n",
              "      <th>Tahun</th>\n",
              "      <th>Bulan</th>\n",
              "      <th>Jam</th>\n",
              "      <th>Hari_Libur</th>\n",
              "      <th>Hari</th>\n",
              "      <th>Hari_Kerja</th>\n",
              "      <th>Cuaca</th>\n",
              "      <th>Suhu</th>\n",
              "      <th>Suhu yang Dirasakan</th>\n",
              "      <th>Kelembaban</th>\n",
              "      <th>Kecepatan_Angin</th>\n",
              "      <th>Jumlah</th>\n",
              "    </tr>\n",
              "  </thead>\n",
              "  <tbody>\n",
              "    <tr>\n",
              "      <th>0</th>\n",
              "      <td>1</td>\n",
              "      <td>0</td>\n",
              "      <td>1</td>\n",
              "      <td>0</td>\n",
              "      <td>0</td>\n",
              "      <td>6</td>\n",
              "      <td>0</td>\n",
              "      <td>1</td>\n",
              "      <td>0.24</td>\n",
              "      <td>0.29</td>\n",
              "      <td>0.81</td>\n",
              "      <td>0.00</td>\n",
              "      <td>16</td>\n",
              "    </tr>\n",
              "    <tr>\n",
              "      <th>1</th>\n",
              "      <td>1</td>\n",
              "      <td>0</td>\n",
              "      <td>1</td>\n",
              "      <td>1</td>\n",
              "      <td>0</td>\n",
              "      <td>6</td>\n",
              "      <td>0</td>\n",
              "      <td>1</td>\n",
              "      <td>0.22</td>\n",
              "      <td>0.27</td>\n",
              "      <td>0.80</td>\n",
              "      <td>0.00</td>\n",
              "      <td>40</td>\n",
              "    </tr>\n",
              "    <tr>\n",
              "      <th>2</th>\n",
              "      <td>1</td>\n",
              "      <td>0</td>\n",
              "      <td>1</td>\n",
              "      <td>2</td>\n",
              "      <td>0</td>\n",
              "      <td>6</td>\n",
              "      <td>0</td>\n",
              "      <td>1</td>\n",
              "      <td>0.22</td>\n",
              "      <td>0.27</td>\n",
              "      <td>0.80</td>\n",
              "      <td>0.00</td>\n",
              "      <td>32</td>\n",
              "    </tr>\n",
              "    <tr>\n",
              "      <th>3</th>\n",
              "      <td>1</td>\n",
              "      <td>0</td>\n",
              "      <td>1</td>\n",
              "      <td>3</td>\n",
              "      <td>0</td>\n",
              "      <td>6</td>\n",
              "      <td>0</td>\n",
              "      <td>1</td>\n",
              "      <td>0.24</td>\n",
              "      <td>0.29</td>\n",
              "      <td>0.75</td>\n",
              "      <td>0.00</td>\n",
              "      <td>13</td>\n",
              "    </tr>\n",
              "    <tr>\n",
              "      <th>4</th>\n",
              "      <td>1</td>\n",
              "      <td>0</td>\n",
              "      <td>1</td>\n",
              "      <td>4</td>\n",
              "      <td>0</td>\n",
              "      <td>6</td>\n",
              "      <td>0</td>\n",
              "      <td>1</td>\n",
              "      <td>0.24</td>\n",
              "      <td>0.29</td>\n",
              "      <td>0.75</td>\n",
              "      <td>0.00</td>\n",
              "      <td>1</td>\n",
              "    </tr>\n",
              "  </tbody>\n",
              "</table>\n",
              "</div>\n",
              "      <button class=\"colab-df-convert\" onclick=\"convertToInteractive('df-7793ec1e-1764-4c08-b5d5-22d2d66c1f1d')\"\n",
              "              title=\"Convert this dataframe to an interactive table.\"\n",
              "              style=\"display:none;\">\n",
              "        \n",
              "  <svg xmlns=\"http://www.w3.org/2000/svg\" height=\"24px\"viewBox=\"0 0 24 24\"\n",
              "       width=\"24px\">\n",
              "    <path d=\"M0 0h24v24H0V0z\" fill=\"none\"/>\n",
              "    <path d=\"M18.56 5.44l.94 2.06.94-2.06 2.06-.94-2.06-.94-.94-2.06-.94 2.06-2.06.94zm-11 1L8.5 8.5l.94-2.06 2.06-.94-2.06-.94L8.5 2.5l-.94 2.06-2.06.94zm10 10l.94 2.06.94-2.06 2.06-.94-2.06-.94-.94-2.06-.94 2.06-2.06.94z\"/><path d=\"M17.41 7.96l-1.37-1.37c-.4-.4-.92-.59-1.43-.59-.52 0-1.04.2-1.43.59L10.3 9.45l-7.72 7.72c-.78.78-.78 2.05 0 2.83L4 21.41c.39.39.9.59 1.41.59.51 0 1.02-.2 1.41-.59l7.78-7.78 2.81-2.81c.8-.78.8-2.07 0-2.86zM5.41 20L4 18.59l7.72-7.72 1.47 1.35L5.41 20z\"/>\n",
              "  </svg>\n",
              "      </button>\n",
              "      \n",
              "  <style>\n",
              "    .colab-df-container {\n",
              "      display:flex;\n",
              "      flex-wrap:wrap;\n",
              "      gap: 12px;\n",
              "    }\n",
              "\n",
              "    .colab-df-convert {\n",
              "      background-color: #E8F0FE;\n",
              "      border: none;\n",
              "      border-radius: 50%;\n",
              "      cursor: pointer;\n",
              "      display: none;\n",
              "      fill: #1967D2;\n",
              "      height: 32px;\n",
              "      padding: 0 0 0 0;\n",
              "      width: 32px;\n",
              "    }\n",
              "\n",
              "    .colab-df-convert:hover {\n",
              "      background-color: #E2EBFA;\n",
              "      box-shadow: 0px 1px 2px rgba(60, 64, 67, 0.3), 0px 1px 3px 1px rgba(60, 64, 67, 0.15);\n",
              "      fill: #174EA6;\n",
              "    }\n",
              "\n",
              "    [theme=dark] .colab-df-convert {\n",
              "      background-color: #3B4455;\n",
              "      fill: #D2E3FC;\n",
              "    }\n",
              "\n",
              "    [theme=dark] .colab-df-convert:hover {\n",
              "      background-color: #434B5C;\n",
              "      box-shadow: 0px 1px 3px 1px rgba(0, 0, 0, 0.15);\n",
              "      filter: drop-shadow(0px 1px 2px rgba(0, 0, 0, 0.3));\n",
              "      fill: #FFFFFF;\n",
              "    }\n",
              "  </style>\n",
              "\n",
              "      <script>\n",
              "        const buttonEl =\n",
              "          document.querySelector('#df-7793ec1e-1764-4c08-b5d5-22d2d66c1f1d button.colab-df-convert');\n",
              "        buttonEl.style.display =\n",
              "          google.colab.kernel.accessAllowed ? 'block' : 'none';\n",
              "\n",
              "        async function convertToInteractive(key) {\n",
              "          const element = document.querySelector('#df-7793ec1e-1764-4c08-b5d5-22d2d66c1f1d');\n",
              "          const dataTable =\n",
              "            await google.colab.kernel.invokeFunction('convertToInteractive',\n",
              "                                                     [key], {});\n",
              "          if (!dataTable) return;\n",
              "\n",
              "          const docLinkHtml = 'Like what you see? Visit the ' +\n",
              "            '<a target=\"_blank\" href=https://colab.research.google.com/notebooks/data_table.ipynb>data table notebook</a>'\n",
              "            + ' to learn more about interactive tables.';\n",
              "          element.innerHTML = '';\n",
              "          dataTable['output_type'] = 'display_data';\n",
              "          await google.colab.output.renderOutput(dataTable, element);\n",
              "          const docLink = document.createElement('div');\n",
              "          docLink.innerHTML = docLinkHtml;\n",
              "          element.appendChild(docLink);\n",
              "        }\n",
              "      </script>\n",
              "    </div>\n",
              "  </div>\n",
              "  "
            ]
          },
          "metadata": {},
          "execution_count": 378
        }
      ],
      "source": [
        "df.head(5)"
      ]
    },
    {
      "cell_type": "code",
      "source": [
        "dfm.head(5)"
      ],
      "metadata": {
        "colab": {
          "base_uri": "https://localhost:8080/",
          "height": 206
        },
        "id": "qwYHo9GicLJN",
        "outputId": "6d807579-4532-42db-ef50-e1ead1a94d3d"
      },
      "execution_count": 379,
      "outputs": [
        {
          "output_type": "execute_result",
          "data": {
            "text/plain": [
              "   Musim  Tahun  Bulan  Hari_Libur  Hari  Hari_Kerja  Cuaca  Suhu  \\\n",
              "0      1      0      1           0     6           0      2  0.34   \n",
              "1      1      0      1           0     0           0      2  0.36   \n",
              "2      1      0      1           0     1           1      1  0.20   \n",
              "3      1      0      1           0     2           1      1  0.20   \n",
              "4      1      0      1           0     3           1      1  0.23   \n",
              "\n",
              "   Suhu yang Dirasakan  Kelembaban  Kecepatan_Angin  Jumlah  \n",
              "0                 0.36        0.81             0.16     985  \n",
              "1                 0.35        0.70             0.25     801  \n",
              "2                 0.19        0.44             0.25    1349  \n",
              "3                 0.21        0.59             0.16    1562  \n",
              "4                 0.23        0.44             0.19    1600  "
            ],
            "text/html": [
              "\n",
              "  <div id=\"df-9ff46f46-af8a-4d12-bd0f-055221155b8f\">\n",
              "    <div class=\"colab-df-container\">\n",
              "      <div>\n",
              "<style scoped>\n",
              "    .dataframe tbody tr th:only-of-type {\n",
              "        vertical-align: middle;\n",
              "    }\n",
              "\n",
              "    .dataframe tbody tr th {\n",
              "        vertical-align: top;\n",
              "    }\n",
              "\n",
              "    .dataframe thead th {\n",
              "        text-align: right;\n",
              "    }\n",
              "</style>\n",
              "<table border=\"1\" class=\"dataframe\">\n",
              "  <thead>\n",
              "    <tr style=\"text-align: right;\">\n",
              "      <th></th>\n",
              "      <th>Musim</th>\n",
              "      <th>Tahun</th>\n",
              "      <th>Bulan</th>\n",
              "      <th>Hari_Libur</th>\n",
              "      <th>Hari</th>\n",
              "      <th>Hari_Kerja</th>\n",
              "      <th>Cuaca</th>\n",
              "      <th>Suhu</th>\n",
              "      <th>Suhu yang Dirasakan</th>\n",
              "      <th>Kelembaban</th>\n",
              "      <th>Kecepatan_Angin</th>\n",
              "      <th>Jumlah</th>\n",
              "    </tr>\n",
              "  </thead>\n",
              "  <tbody>\n",
              "    <tr>\n",
              "      <th>0</th>\n",
              "      <td>1</td>\n",
              "      <td>0</td>\n",
              "      <td>1</td>\n",
              "      <td>0</td>\n",
              "      <td>6</td>\n",
              "      <td>0</td>\n",
              "      <td>2</td>\n",
              "      <td>0.34</td>\n",
              "      <td>0.36</td>\n",
              "      <td>0.81</td>\n",
              "      <td>0.16</td>\n",
              "      <td>985</td>\n",
              "    </tr>\n",
              "    <tr>\n",
              "      <th>1</th>\n",
              "      <td>1</td>\n",
              "      <td>0</td>\n",
              "      <td>1</td>\n",
              "      <td>0</td>\n",
              "      <td>0</td>\n",
              "      <td>0</td>\n",
              "      <td>2</td>\n",
              "      <td>0.36</td>\n",
              "      <td>0.35</td>\n",
              "      <td>0.70</td>\n",
              "      <td>0.25</td>\n",
              "      <td>801</td>\n",
              "    </tr>\n",
              "    <tr>\n",
              "      <th>2</th>\n",
              "      <td>1</td>\n",
              "      <td>0</td>\n",
              "      <td>1</td>\n",
              "      <td>0</td>\n",
              "      <td>1</td>\n",
              "      <td>1</td>\n",
              "      <td>1</td>\n",
              "      <td>0.20</td>\n",
              "      <td>0.19</td>\n",
              "      <td>0.44</td>\n",
              "      <td>0.25</td>\n",
              "      <td>1349</td>\n",
              "    </tr>\n",
              "    <tr>\n",
              "      <th>3</th>\n",
              "      <td>1</td>\n",
              "      <td>0</td>\n",
              "      <td>1</td>\n",
              "      <td>0</td>\n",
              "      <td>2</td>\n",
              "      <td>1</td>\n",
              "      <td>1</td>\n",
              "      <td>0.20</td>\n",
              "      <td>0.21</td>\n",
              "      <td>0.59</td>\n",
              "      <td>0.16</td>\n",
              "      <td>1562</td>\n",
              "    </tr>\n",
              "    <tr>\n",
              "      <th>4</th>\n",
              "      <td>1</td>\n",
              "      <td>0</td>\n",
              "      <td>1</td>\n",
              "      <td>0</td>\n",
              "      <td>3</td>\n",
              "      <td>1</td>\n",
              "      <td>1</td>\n",
              "      <td>0.23</td>\n",
              "      <td>0.23</td>\n",
              "      <td>0.44</td>\n",
              "      <td>0.19</td>\n",
              "      <td>1600</td>\n",
              "    </tr>\n",
              "  </tbody>\n",
              "</table>\n",
              "</div>\n",
              "      <button class=\"colab-df-convert\" onclick=\"convertToInteractive('df-9ff46f46-af8a-4d12-bd0f-055221155b8f')\"\n",
              "              title=\"Convert this dataframe to an interactive table.\"\n",
              "              style=\"display:none;\">\n",
              "        \n",
              "  <svg xmlns=\"http://www.w3.org/2000/svg\" height=\"24px\"viewBox=\"0 0 24 24\"\n",
              "       width=\"24px\">\n",
              "    <path d=\"M0 0h24v24H0V0z\" fill=\"none\"/>\n",
              "    <path d=\"M18.56 5.44l.94 2.06.94-2.06 2.06-.94-2.06-.94-.94-2.06-.94 2.06-2.06.94zm-11 1L8.5 8.5l.94-2.06 2.06-.94-2.06-.94L8.5 2.5l-.94 2.06-2.06.94zm10 10l.94 2.06.94-2.06 2.06-.94-2.06-.94-.94-2.06-.94 2.06-2.06.94z\"/><path d=\"M17.41 7.96l-1.37-1.37c-.4-.4-.92-.59-1.43-.59-.52 0-1.04.2-1.43.59L10.3 9.45l-7.72 7.72c-.78.78-.78 2.05 0 2.83L4 21.41c.39.39.9.59 1.41.59.51 0 1.02-.2 1.41-.59l7.78-7.78 2.81-2.81c.8-.78.8-2.07 0-2.86zM5.41 20L4 18.59l7.72-7.72 1.47 1.35L5.41 20z\"/>\n",
              "  </svg>\n",
              "      </button>\n",
              "      \n",
              "  <style>\n",
              "    .colab-df-container {\n",
              "      display:flex;\n",
              "      flex-wrap:wrap;\n",
              "      gap: 12px;\n",
              "    }\n",
              "\n",
              "    .colab-df-convert {\n",
              "      background-color: #E8F0FE;\n",
              "      border: none;\n",
              "      border-radius: 50%;\n",
              "      cursor: pointer;\n",
              "      display: none;\n",
              "      fill: #1967D2;\n",
              "      height: 32px;\n",
              "      padding: 0 0 0 0;\n",
              "      width: 32px;\n",
              "    }\n",
              "\n",
              "    .colab-df-convert:hover {\n",
              "      background-color: #E2EBFA;\n",
              "      box-shadow: 0px 1px 2px rgba(60, 64, 67, 0.3), 0px 1px 3px 1px rgba(60, 64, 67, 0.15);\n",
              "      fill: #174EA6;\n",
              "    }\n",
              "\n",
              "    [theme=dark] .colab-df-convert {\n",
              "      background-color: #3B4455;\n",
              "      fill: #D2E3FC;\n",
              "    }\n",
              "\n",
              "    [theme=dark] .colab-df-convert:hover {\n",
              "      background-color: #434B5C;\n",
              "      box-shadow: 0px 1px 3px 1px rgba(0, 0, 0, 0.15);\n",
              "      filter: drop-shadow(0px 1px 2px rgba(0, 0, 0, 0.3));\n",
              "      fill: #FFFFFF;\n",
              "    }\n",
              "  </style>\n",
              "\n",
              "      <script>\n",
              "        const buttonEl =\n",
              "          document.querySelector('#df-9ff46f46-af8a-4d12-bd0f-055221155b8f button.colab-df-convert');\n",
              "        buttonEl.style.display =\n",
              "          google.colab.kernel.accessAllowed ? 'block' : 'none';\n",
              "\n",
              "        async function convertToInteractive(key) {\n",
              "          const element = document.querySelector('#df-9ff46f46-af8a-4d12-bd0f-055221155b8f');\n",
              "          const dataTable =\n",
              "            await google.colab.kernel.invokeFunction('convertToInteractive',\n",
              "                                                     [key], {});\n",
              "          if (!dataTable) return;\n",
              "\n",
              "          const docLinkHtml = 'Like what you see? Visit the ' +\n",
              "            '<a target=\"_blank\" href=https://colab.research.google.com/notebooks/data_table.ipynb>data table notebook</a>'\n",
              "            + ' to learn more about interactive tables.';\n",
              "          element.innerHTML = '';\n",
              "          dataTable['output_type'] = 'display_data';\n",
              "          await google.colab.output.renderOutput(dataTable, element);\n",
              "          const docLink = document.createElement('div');\n",
              "          docLink.innerHTML = docLinkHtml;\n",
              "          element.appendChild(docLink);\n",
              "        }\n",
              "      </script>\n",
              "    </div>\n",
              "  </div>\n",
              "  "
            ]
          },
          "metadata": {},
          "execution_count": 379
        }
      ]
    },
    {
      "cell_type": "code",
      "execution_count": 380,
      "metadata": {
        "id": "sZAFOoPY--pO"
      },
      "outputs": [],
      "source": [
        "dfm=dfm.drop(['Hari_Libur'],1)"
      ]
    },
    {
      "cell_type": "code",
      "execution_count": 381,
      "metadata": {
        "colab": {
          "base_uri": "https://localhost:8080/",
          "height": 206
        },
        "id": "eDrgMLrN_ENc",
        "outputId": "1809c106-56a7-4bbe-ec7e-372d9ad1b3da"
      },
      "outputs": [
        {
          "output_type": "execute_result",
          "data": {
            "text/plain": [
              "   Musim  Tahun  Bulan  Hari  Hari_Kerja  Cuaca  Suhu  Suhu yang Dirasakan  \\\n",
              "0      1      0      1     6           0      2  0.34                 0.36   \n",
              "1      1      0      1     0           0      2  0.36                 0.35   \n",
              "2      1      0      1     1           1      1  0.20                 0.19   \n",
              "3      1      0      1     2           1      1  0.20                 0.21   \n",
              "4      1      0      1     3           1      1  0.23                 0.23   \n",
              "\n",
              "   Kelembaban  Kecepatan_Angin  Jumlah  \n",
              "0        0.81             0.16     985  \n",
              "1        0.70             0.25     801  \n",
              "2        0.44             0.25    1349  \n",
              "3        0.59             0.16    1562  \n",
              "4        0.44             0.19    1600  "
            ],
            "text/html": [
              "\n",
              "  <div id=\"df-3d5f266e-bc10-4f8d-9e09-a7bc890bf1a6\">\n",
              "    <div class=\"colab-df-container\">\n",
              "      <div>\n",
              "<style scoped>\n",
              "    .dataframe tbody tr th:only-of-type {\n",
              "        vertical-align: middle;\n",
              "    }\n",
              "\n",
              "    .dataframe tbody tr th {\n",
              "        vertical-align: top;\n",
              "    }\n",
              "\n",
              "    .dataframe thead th {\n",
              "        text-align: right;\n",
              "    }\n",
              "</style>\n",
              "<table border=\"1\" class=\"dataframe\">\n",
              "  <thead>\n",
              "    <tr style=\"text-align: right;\">\n",
              "      <th></th>\n",
              "      <th>Musim</th>\n",
              "      <th>Tahun</th>\n",
              "      <th>Bulan</th>\n",
              "      <th>Hari</th>\n",
              "      <th>Hari_Kerja</th>\n",
              "      <th>Cuaca</th>\n",
              "      <th>Suhu</th>\n",
              "      <th>Suhu yang Dirasakan</th>\n",
              "      <th>Kelembaban</th>\n",
              "      <th>Kecepatan_Angin</th>\n",
              "      <th>Jumlah</th>\n",
              "    </tr>\n",
              "  </thead>\n",
              "  <tbody>\n",
              "    <tr>\n",
              "      <th>0</th>\n",
              "      <td>1</td>\n",
              "      <td>0</td>\n",
              "      <td>1</td>\n",
              "      <td>6</td>\n",
              "      <td>0</td>\n",
              "      <td>2</td>\n",
              "      <td>0.34</td>\n",
              "      <td>0.36</td>\n",
              "      <td>0.81</td>\n",
              "      <td>0.16</td>\n",
              "      <td>985</td>\n",
              "    </tr>\n",
              "    <tr>\n",
              "      <th>1</th>\n",
              "      <td>1</td>\n",
              "      <td>0</td>\n",
              "      <td>1</td>\n",
              "      <td>0</td>\n",
              "      <td>0</td>\n",
              "      <td>2</td>\n",
              "      <td>0.36</td>\n",
              "      <td>0.35</td>\n",
              "      <td>0.70</td>\n",
              "      <td>0.25</td>\n",
              "      <td>801</td>\n",
              "    </tr>\n",
              "    <tr>\n",
              "      <th>2</th>\n",
              "      <td>1</td>\n",
              "      <td>0</td>\n",
              "      <td>1</td>\n",
              "      <td>1</td>\n",
              "      <td>1</td>\n",
              "      <td>1</td>\n",
              "      <td>0.20</td>\n",
              "      <td>0.19</td>\n",
              "      <td>0.44</td>\n",
              "      <td>0.25</td>\n",
              "      <td>1349</td>\n",
              "    </tr>\n",
              "    <tr>\n",
              "      <th>3</th>\n",
              "      <td>1</td>\n",
              "      <td>0</td>\n",
              "      <td>1</td>\n",
              "      <td>2</td>\n",
              "      <td>1</td>\n",
              "      <td>1</td>\n",
              "      <td>0.20</td>\n",
              "      <td>0.21</td>\n",
              "      <td>0.59</td>\n",
              "      <td>0.16</td>\n",
              "      <td>1562</td>\n",
              "    </tr>\n",
              "    <tr>\n",
              "      <th>4</th>\n",
              "      <td>1</td>\n",
              "      <td>0</td>\n",
              "      <td>1</td>\n",
              "      <td>3</td>\n",
              "      <td>1</td>\n",
              "      <td>1</td>\n",
              "      <td>0.23</td>\n",
              "      <td>0.23</td>\n",
              "      <td>0.44</td>\n",
              "      <td>0.19</td>\n",
              "      <td>1600</td>\n",
              "    </tr>\n",
              "  </tbody>\n",
              "</table>\n",
              "</div>\n",
              "      <button class=\"colab-df-convert\" onclick=\"convertToInteractive('df-3d5f266e-bc10-4f8d-9e09-a7bc890bf1a6')\"\n",
              "              title=\"Convert this dataframe to an interactive table.\"\n",
              "              style=\"display:none;\">\n",
              "        \n",
              "  <svg xmlns=\"http://www.w3.org/2000/svg\" height=\"24px\"viewBox=\"0 0 24 24\"\n",
              "       width=\"24px\">\n",
              "    <path d=\"M0 0h24v24H0V0z\" fill=\"none\"/>\n",
              "    <path d=\"M18.56 5.44l.94 2.06.94-2.06 2.06-.94-2.06-.94-.94-2.06-.94 2.06-2.06.94zm-11 1L8.5 8.5l.94-2.06 2.06-.94-2.06-.94L8.5 2.5l-.94 2.06-2.06.94zm10 10l.94 2.06.94-2.06 2.06-.94-2.06-.94-.94-2.06-.94 2.06-2.06.94z\"/><path d=\"M17.41 7.96l-1.37-1.37c-.4-.4-.92-.59-1.43-.59-.52 0-1.04.2-1.43.59L10.3 9.45l-7.72 7.72c-.78.78-.78 2.05 0 2.83L4 21.41c.39.39.9.59 1.41.59.51 0 1.02-.2 1.41-.59l7.78-7.78 2.81-2.81c.8-.78.8-2.07 0-2.86zM5.41 20L4 18.59l7.72-7.72 1.47 1.35L5.41 20z\"/>\n",
              "  </svg>\n",
              "      </button>\n",
              "      \n",
              "  <style>\n",
              "    .colab-df-container {\n",
              "      display:flex;\n",
              "      flex-wrap:wrap;\n",
              "      gap: 12px;\n",
              "    }\n",
              "\n",
              "    .colab-df-convert {\n",
              "      background-color: #E8F0FE;\n",
              "      border: none;\n",
              "      border-radius: 50%;\n",
              "      cursor: pointer;\n",
              "      display: none;\n",
              "      fill: #1967D2;\n",
              "      height: 32px;\n",
              "      padding: 0 0 0 0;\n",
              "      width: 32px;\n",
              "    }\n",
              "\n",
              "    .colab-df-convert:hover {\n",
              "      background-color: #E2EBFA;\n",
              "      box-shadow: 0px 1px 2px rgba(60, 64, 67, 0.3), 0px 1px 3px 1px rgba(60, 64, 67, 0.15);\n",
              "      fill: #174EA6;\n",
              "    }\n",
              "\n",
              "    [theme=dark] .colab-df-convert {\n",
              "      background-color: #3B4455;\n",
              "      fill: #D2E3FC;\n",
              "    }\n",
              "\n",
              "    [theme=dark] .colab-df-convert:hover {\n",
              "      background-color: #434B5C;\n",
              "      box-shadow: 0px 1px 3px 1px rgba(0, 0, 0, 0.15);\n",
              "      filter: drop-shadow(0px 1px 2px rgba(0, 0, 0, 0.3));\n",
              "      fill: #FFFFFF;\n",
              "    }\n",
              "  </style>\n",
              "\n",
              "      <script>\n",
              "        const buttonEl =\n",
              "          document.querySelector('#df-3d5f266e-bc10-4f8d-9e09-a7bc890bf1a6 button.colab-df-convert');\n",
              "        buttonEl.style.display =\n",
              "          google.colab.kernel.accessAllowed ? 'block' : 'none';\n",
              "\n",
              "        async function convertToInteractive(key) {\n",
              "          const element = document.querySelector('#df-3d5f266e-bc10-4f8d-9e09-a7bc890bf1a6');\n",
              "          const dataTable =\n",
              "            await google.colab.kernel.invokeFunction('convertToInteractive',\n",
              "                                                     [key], {});\n",
              "          if (!dataTable) return;\n",
              "\n",
              "          const docLinkHtml = 'Like what you see? Visit the ' +\n",
              "            '<a target=\"_blank\" href=https://colab.research.google.com/notebooks/data_table.ipynb>data table notebook</a>'\n",
              "            + ' to learn more about interactive tables.';\n",
              "          element.innerHTML = '';\n",
              "          dataTable['output_type'] = 'display_data';\n",
              "          await google.colab.output.renderOutput(dataTable, element);\n",
              "          const docLink = document.createElement('div');\n",
              "          docLink.innerHTML = docLinkHtml;\n",
              "          element.appendChild(docLink);\n",
              "        }\n",
              "      </script>\n",
              "    </div>\n",
              "  </div>\n",
              "  "
            ]
          },
          "metadata": {},
          "execution_count": 381
        }
      ],
      "source": [
        "dfm.head()"
      ]
    },
    {
      "cell_type": "markdown",
      "metadata": {
        "id": "XAWNFFWOx7_1"
      },
      "source": [
        "ubah tipe data dan rename untuk lebih mudah memahami data"
      ]
    },
    {
      "cell_type": "code",
      "execution_count": 382,
      "metadata": {
        "id": "JGwzByQExlCr"
      },
      "outputs": [],
      "source": [
        "df['Musim'] = df['Musim'].map({1:\"Musim Dingin\",2:\"Musim Semi\",3:\"Musim panas\",4:\"Musim Gugur\"})\n",
        "df['Hari'] = df['Hari'].map({0:\"Sabtu\",1:\"Minggu\",2:\"Senin\",3:\"Selasa\",4:\"Rabu\",5:\"Kamis\",6:\"Jumat\"})\n",
        "df['Bulan'] = df['Bulan'].map({1:\"Januari\",2:\"Februari\",3:\"Maret\",4:\"April\",5:\"Mei\",6:\"Juni\",7:\"Juli\",8:\"Agustus\",9:\"September\",10:\"Oktober\",11:\"November\",12:\"Desember\"})\n",
        "df['Cuaca'] = df['Cuaca'].map({1:\"Cerah\",2:\"Berawan\",3:\"Hujan\",4:\"Salju\"})\n",
        "df['Hari_Libur'] = df['Hari_Libur'].map({1:\"Iya\",0:\"Tidak\"})\n",
        "df['Hari_Kerja'] = df['Hari_Kerja'].map({1:\"Iya\",0:\"Tidak\"})"
      ]
    },
    {
      "cell_type": "code",
      "execution_count": 383,
      "metadata": {
        "colab": {
          "base_uri": "https://localhost:8080/",
          "height": 206
        },
        "id": "rNk3f6T1xutF",
        "outputId": "759da840-9817-4e20-f95d-606de57654ab"
      },
      "outputs": [
        {
          "output_type": "execute_result",
          "data": {
            "text/plain": [
              "          Musim  Tahun    Bulan  Jam Hari_Libur   Hari Hari_Kerja  Cuaca  \\\n",
              "0  Musim Dingin      0  Januari    0      Tidak  Jumat      Tidak  Cerah   \n",
              "1  Musim Dingin      0  Januari    1      Tidak  Jumat      Tidak  Cerah   \n",
              "2  Musim Dingin      0  Januari    2      Tidak  Jumat      Tidak  Cerah   \n",
              "3  Musim Dingin      0  Januari    3      Tidak  Jumat      Tidak  Cerah   \n",
              "4  Musim Dingin      0  Januari    4      Tidak  Jumat      Tidak  Cerah   \n",
              "\n",
              "   Suhu  Suhu yang Dirasakan  Kelembaban  Kecepatan_Angin  Jumlah  \n",
              "0  0.24                 0.29        0.81             0.00      16  \n",
              "1  0.22                 0.27        0.80             0.00      40  \n",
              "2  0.22                 0.27        0.80             0.00      32  \n",
              "3  0.24                 0.29        0.75             0.00      13  \n",
              "4  0.24                 0.29        0.75             0.00       1  "
            ],
            "text/html": [
              "\n",
              "  <div id=\"df-2d88ebe0-eeee-4850-9735-3704cc45fb31\">\n",
              "    <div class=\"colab-df-container\">\n",
              "      <div>\n",
              "<style scoped>\n",
              "    .dataframe tbody tr th:only-of-type {\n",
              "        vertical-align: middle;\n",
              "    }\n",
              "\n",
              "    .dataframe tbody tr th {\n",
              "        vertical-align: top;\n",
              "    }\n",
              "\n",
              "    .dataframe thead th {\n",
              "        text-align: right;\n",
              "    }\n",
              "</style>\n",
              "<table border=\"1\" class=\"dataframe\">\n",
              "  <thead>\n",
              "    <tr style=\"text-align: right;\">\n",
              "      <th></th>\n",
              "      <th>Musim</th>\n",
              "      <th>Tahun</th>\n",
              "      <th>Bulan</th>\n",
              "      <th>Jam</th>\n",
              "      <th>Hari_Libur</th>\n",
              "      <th>Hari</th>\n",
              "      <th>Hari_Kerja</th>\n",
              "      <th>Cuaca</th>\n",
              "      <th>Suhu</th>\n",
              "      <th>Suhu yang Dirasakan</th>\n",
              "      <th>Kelembaban</th>\n",
              "      <th>Kecepatan_Angin</th>\n",
              "      <th>Jumlah</th>\n",
              "    </tr>\n",
              "  </thead>\n",
              "  <tbody>\n",
              "    <tr>\n",
              "      <th>0</th>\n",
              "      <td>Musim Dingin</td>\n",
              "      <td>0</td>\n",
              "      <td>Januari</td>\n",
              "      <td>0</td>\n",
              "      <td>Tidak</td>\n",
              "      <td>Jumat</td>\n",
              "      <td>Tidak</td>\n",
              "      <td>Cerah</td>\n",
              "      <td>0.24</td>\n",
              "      <td>0.29</td>\n",
              "      <td>0.81</td>\n",
              "      <td>0.00</td>\n",
              "      <td>16</td>\n",
              "    </tr>\n",
              "    <tr>\n",
              "      <th>1</th>\n",
              "      <td>Musim Dingin</td>\n",
              "      <td>0</td>\n",
              "      <td>Januari</td>\n",
              "      <td>1</td>\n",
              "      <td>Tidak</td>\n",
              "      <td>Jumat</td>\n",
              "      <td>Tidak</td>\n",
              "      <td>Cerah</td>\n",
              "      <td>0.22</td>\n",
              "      <td>0.27</td>\n",
              "      <td>0.80</td>\n",
              "      <td>0.00</td>\n",
              "      <td>40</td>\n",
              "    </tr>\n",
              "    <tr>\n",
              "      <th>2</th>\n",
              "      <td>Musim Dingin</td>\n",
              "      <td>0</td>\n",
              "      <td>Januari</td>\n",
              "      <td>2</td>\n",
              "      <td>Tidak</td>\n",
              "      <td>Jumat</td>\n",
              "      <td>Tidak</td>\n",
              "      <td>Cerah</td>\n",
              "      <td>0.22</td>\n",
              "      <td>0.27</td>\n",
              "      <td>0.80</td>\n",
              "      <td>0.00</td>\n",
              "      <td>32</td>\n",
              "    </tr>\n",
              "    <tr>\n",
              "      <th>3</th>\n",
              "      <td>Musim Dingin</td>\n",
              "      <td>0</td>\n",
              "      <td>Januari</td>\n",
              "      <td>3</td>\n",
              "      <td>Tidak</td>\n",
              "      <td>Jumat</td>\n",
              "      <td>Tidak</td>\n",
              "      <td>Cerah</td>\n",
              "      <td>0.24</td>\n",
              "      <td>0.29</td>\n",
              "      <td>0.75</td>\n",
              "      <td>0.00</td>\n",
              "      <td>13</td>\n",
              "    </tr>\n",
              "    <tr>\n",
              "      <th>4</th>\n",
              "      <td>Musim Dingin</td>\n",
              "      <td>0</td>\n",
              "      <td>Januari</td>\n",
              "      <td>4</td>\n",
              "      <td>Tidak</td>\n",
              "      <td>Jumat</td>\n",
              "      <td>Tidak</td>\n",
              "      <td>Cerah</td>\n",
              "      <td>0.24</td>\n",
              "      <td>0.29</td>\n",
              "      <td>0.75</td>\n",
              "      <td>0.00</td>\n",
              "      <td>1</td>\n",
              "    </tr>\n",
              "  </tbody>\n",
              "</table>\n",
              "</div>\n",
              "      <button class=\"colab-df-convert\" onclick=\"convertToInteractive('df-2d88ebe0-eeee-4850-9735-3704cc45fb31')\"\n",
              "              title=\"Convert this dataframe to an interactive table.\"\n",
              "              style=\"display:none;\">\n",
              "        \n",
              "  <svg xmlns=\"http://www.w3.org/2000/svg\" height=\"24px\"viewBox=\"0 0 24 24\"\n",
              "       width=\"24px\">\n",
              "    <path d=\"M0 0h24v24H0V0z\" fill=\"none\"/>\n",
              "    <path d=\"M18.56 5.44l.94 2.06.94-2.06 2.06-.94-2.06-.94-.94-2.06-.94 2.06-2.06.94zm-11 1L8.5 8.5l.94-2.06 2.06-.94-2.06-.94L8.5 2.5l-.94 2.06-2.06.94zm10 10l.94 2.06.94-2.06 2.06-.94-2.06-.94-.94-2.06-.94 2.06-2.06.94z\"/><path d=\"M17.41 7.96l-1.37-1.37c-.4-.4-.92-.59-1.43-.59-.52 0-1.04.2-1.43.59L10.3 9.45l-7.72 7.72c-.78.78-.78 2.05 0 2.83L4 21.41c.39.39.9.59 1.41.59.51 0 1.02-.2 1.41-.59l7.78-7.78 2.81-2.81c.8-.78.8-2.07 0-2.86zM5.41 20L4 18.59l7.72-7.72 1.47 1.35L5.41 20z\"/>\n",
              "  </svg>\n",
              "      </button>\n",
              "      \n",
              "  <style>\n",
              "    .colab-df-container {\n",
              "      display:flex;\n",
              "      flex-wrap:wrap;\n",
              "      gap: 12px;\n",
              "    }\n",
              "\n",
              "    .colab-df-convert {\n",
              "      background-color: #E8F0FE;\n",
              "      border: none;\n",
              "      border-radius: 50%;\n",
              "      cursor: pointer;\n",
              "      display: none;\n",
              "      fill: #1967D2;\n",
              "      height: 32px;\n",
              "      padding: 0 0 0 0;\n",
              "      width: 32px;\n",
              "    }\n",
              "\n",
              "    .colab-df-convert:hover {\n",
              "      background-color: #E2EBFA;\n",
              "      box-shadow: 0px 1px 2px rgba(60, 64, 67, 0.3), 0px 1px 3px 1px rgba(60, 64, 67, 0.15);\n",
              "      fill: #174EA6;\n",
              "    }\n",
              "\n",
              "    [theme=dark] .colab-df-convert {\n",
              "      background-color: #3B4455;\n",
              "      fill: #D2E3FC;\n",
              "    }\n",
              "\n",
              "    [theme=dark] .colab-df-convert:hover {\n",
              "      background-color: #434B5C;\n",
              "      box-shadow: 0px 1px 3px 1px rgba(0, 0, 0, 0.15);\n",
              "      filter: drop-shadow(0px 1px 2px rgba(0, 0, 0, 0.3));\n",
              "      fill: #FFFFFF;\n",
              "    }\n",
              "  </style>\n",
              "\n",
              "      <script>\n",
              "        const buttonEl =\n",
              "          document.querySelector('#df-2d88ebe0-eeee-4850-9735-3704cc45fb31 button.colab-df-convert');\n",
              "        buttonEl.style.display =\n",
              "          google.colab.kernel.accessAllowed ? 'block' : 'none';\n",
              "\n",
              "        async function convertToInteractive(key) {\n",
              "          const element = document.querySelector('#df-2d88ebe0-eeee-4850-9735-3704cc45fb31');\n",
              "          const dataTable =\n",
              "            await google.colab.kernel.invokeFunction('convertToInteractive',\n",
              "                                                     [key], {});\n",
              "          if (!dataTable) return;\n",
              "\n",
              "          const docLinkHtml = 'Like what you see? Visit the ' +\n",
              "            '<a target=\"_blank\" href=https://colab.research.google.com/notebooks/data_table.ipynb>data table notebook</a>'\n",
              "            + ' to learn more about interactive tables.';\n",
              "          element.innerHTML = '';\n",
              "          dataTable['output_type'] = 'display_data';\n",
              "          await google.colab.output.renderOutput(dataTable, element);\n",
              "          const docLink = document.createElement('div');\n",
              "          docLink.innerHTML = docLinkHtml;\n",
              "          element.appendChild(docLink);\n",
              "        }\n",
              "      </script>\n",
              "    </div>\n",
              "  </div>\n",
              "  "
            ]
          },
          "metadata": {},
          "execution_count": 383
        }
      ],
      "source": [
        "df.head(5)"
      ]
    },
    {
      "cell_type": "code",
      "execution_count": 384,
      "metadata": {
        "colab": {
          "base_uri": "https://localhost:8080/"
        },
        "id": "OYZUkJSbx2X6",
        "outputId": "57a3fb89-c867-4f9f-e673-8f9d704d6fa1"
      },
      "outputs": [
        {
          "output_type": "stream",
          "name": "stdout",
          "text": [
            "<class 'pandas.core.frame.DataFrame'>\n",
            "RangeIndex: 17379 entries, 0 to 17378\n",
            "Data columns (total 13 columns):\n",
            " #   Column               Non-Null Count  Dtype  \n",
            "---  ------               --------------  -----  \n",
            " 0   Musim                17379 non-null  object \n",
            " 1   Tahun                17379 non-null  int64  \n",
            " 2   Bulan                17379 non-null  object \n",
            " 3   Jam                  17379 non-null  int64  \n",
            " 4   Hari_Libur           17379 non-null  object \n",
            " 5   Hari                 17379 non-null  object \n",
            " 6   Hari_Kerja           17379 non-null  object \n",
            " 7   Cuaca                17379 non-null  object \n",
            " 8   Suhu                 17379 non-null  float64\n",
            " 9   Suhu yang Dirasakan  17379 non-null  float64\n",
            " 10  Kelembaban           17379 non-null  float64\n",
            " 11  Kecepatan_Angin      17379 non-null  float64\n",
            " 12  Jumlah               17379 non-null  int64  \n",
            "dtypes: float64(4), int64(3), object(6)\n",
            "memory usage: 1.7+ MB\n"
          ]
        }
      ],
      "source": [
        "df.info()"
      ]
    },
    {
      "cell_type": "code",
      "execution_count": 385,
      "metadata": {
        "colab": {
          "base_uri": "https://localhost:8080/"
        },
        "id": "j0nJVbp4w5Lo",
        "outputId": "46a55b48-f80d-4511-a33e-37f3278e23a3"
      },
      "outputs": [
        {
          "output_type": "stream",
          "name": "stdout",
          "text": [
            "<class 'pandas.core.frame.DataFrame'>\n",
            "RangeIndex: 731 entries, 0 to 730\n",
            "Data columns (total 11 columns):\n",
            " #   Column               Non-Null Count  Dtype  \n",
            "---  ------               --------------  -----  \n",
            " 0   Musim                731 non-null    int64  \n",
            " 1   Tahun                731 non-null    int64  \n",
            " 2   Bulan                731 non-null    int64  \n",
            " 3   Hari                 731 non-null    int64  \n",
            " 4   Hari_Kerja           731 non-null    int64  \n",
            " 5   Cuaca                731 non-null    int64  \n",
            " 6   Suhu                 731 non-null    float64\n",
            " 7   Suhu yang Dirasakan  731 non-null    float64\n",
            " 8   Kelembaban           731 non-null    float64\n",
            " 9   Kecepatan_Angin      731 non-null    float64\n",
            " 10  Jumlah               731 non-null    int64  \n",
            "dtypes: float64(4), int64(7)\n",
            "memory usage: 62.9 KB\n"
          ]
        }
      ],
      "source": [
        "dfm.info()"
      ]
    },
    {
      "cell_type": "markdown",
      "metadata": {
        "id": "oe6BHNM6y_nc"
      },
      "source": [
        "##Exploratory Data Analysis"
      ]
    },
    {
      "cell_type": "code",
      "execution_count": 386,
      "metadata": {
        "colab": {
          "base_uri": "https://localhost:8080/"
        },
        "id": "CiFomy0x2eLe",
        "outputId": "8d15da61-4a54-4542-873b-f6bd8a7f8137"
      },
      "outputs": [
        {
          "output_type": "stream",
          "name": "stdout",
          "text": [
            "Found existing installation: matplotlib 3.5.3\n",
            "Uninstalling matplotlib-3.5.3:\n",
            "  Would remove:\n",
            "    /usr/local/lib/python3.7/dist-packages/matplotlib-3.5.3-py3.7-nspkg.pth\n",
            "    /usr/local/lib/python3.7/dist-packages/matplotlib-3.5.3.dist-info/*\n",
            "    /usr/local/lib/python3.7/dist-packages/matplotlib/*\n",
            "    /usr/local/lib/python3.7/dist-packages/mpl_toolkits/axes_grid/*\n",
            "    /usr/local/lib/python3.7/dist-packages/mpl_toolkits/axes_grid1/*\n",
            "    /usr/local/lib/python3.7/dist-packages/mpl_toolkits/axisartist/*\n",
            "    /usr/local/lib/python3.7/dist-packages/mpl_toolkits/mplot3d/*\n",
            "    /usr/local/lib/python3.7/dist-packages/mpl_toolkits/tests/*\n",
            "    /usr/local/lib/python3.7/dist-packages/pylab.py\n",
            "Proceed (y/n)? y\n",
            "  Successfully uninstalled matplotlib-3.5.3\n"
          ]
        }
      ],
      "source": [
        "!pip uninstall matplotlib"
      ]
    },
    {
      "cell_type": "code",
      "execution_count": 387,
      "metadata": {
        "colab": {
          "base_uri": "https://localhost:8080/",
          "height": 453
        },
        "id": "aQXgmsn02ps9",
        "outputId": "f0f266a7-be42-442f-86cb-d89f7d94f168"
      },
      "outputs": [
        {
          "output_type": "stream",
          "name": "stdout",
          "text": [
            "Looking in indexes: https://pypi.org/simple, https://us-python.pkg.dev/colab-wheels/public/simple/\n",
            "Collecting matplotlib\n",
            "  Using cached matplotlib-3.5.3-cp37-cp37m-manylinux_2_5_x86_64.manylinux1_x86_64.whl (11.2 MB)\n",
            "Requirement already satisfied: pillow>=6.2.0 in /usr/local/lib/python3.7/dist-packages (from matplotlib) (7.1.2)\n",
            "Requirement already satisfied: packaging>=20.0 in /usr/local/lib/python3.7/dist-packages (from matplotlib) (21.3)\n",
            "Requirement already satisfied: numpy>=1.17 in /usr/local/lib/python3.7/dist-packages (from matplotlib) (1.19.1)\n",
            "Requirement already satisfied: pyparsing>=2.2.1 in /usr/local/lib/python3.7/dist-packages (from matplotlib) (3.0.9)\n",
            "Requirement already satisfied: kiwisolver>=1.0.1 in /usr/local/lib/python3.7/dist-packages (from matplotlib) (1.4.4)\n",
            "Requirement already satisfied: cycler>=0.10 in /usr/local/lib/python3.7/dist-packages (from matplotlib) (0.11.0)\n",
            "Requirement already satisfied: fonttools>=4.22.0 in /usr/local/lib/python3.7/dist-packages (from matplotlib) (4.37.3)\n",
            "Requirement already satisfied: python-dateutil>=2.7 in /usr/local/lib/python3.7/dist-packages (from matplotlib) (2.8.2)\n",
            "Requirement already satisfied: typing-extensions in /usr/local/lib/python3.7/dist-packages (from kiwisolver>=1.0.1->matplotlib) (4.1.1)\n",
            "Requirement already satisfied: six>=1.5 in /usr/local/lib/python3.7/dist-packages (from python-dateutil>=2.7->matplotlib) (1.15.0)\n",
            "Installing collected packages: matplotlib\n",
            "\u001b[31mERROR: pip's dependency resolver does not currently take into account all the packages that are installed. This behaviour is the source of the following dependency conflicts.\n",
            "yellowbrick 1.5 requires scikit-learn>=1.0.0, but you have scikit-learn 0.23.1 which is incompatible.\n",
            "plotnine 0.8.0 requires pandas>=1.1.0, but you have pandas 1.0.5 which is incompatible.\n",
            "mizani 0.7.3 requires pandas>=1.1.0, but you have pandas 1.0.5 which is incompatible.\u001b[0m\n",
            "Successfully installed matplotlib-3.5.3\n"
          ]
        },
        {
          "output_type": "display_data",
          "data": {
            "application/vnd.colab-display-data+json": {
              "pip_warning": {
                "packages": [
                  "matplotlib",
                  "mpl_toolkits"
                ]
              }
            }
          },
          "metadata": {}
        }
      ],
      "source": [
        "!pip install matplotlib"
      ]
    },
    {
      "cell_type": "code",
      "execution_count": 388,
      "metadata": {
        "colab": {
          "base_uri": "https://localhost:8080/",
          "height": 1000
        },
        "id": "oTWSR-m0zA2N",
        "outputId": "eb216f06-52a8-4c12-a89f-f3260964c24a"
      },
      "outputs": [
        {
          "output_type": "display_data",
          "data": {
            "text/plain": [
              "<Figure size 1152x2880 with 6 Axes>"
            ],
            "image/png": "[encoded data removed]"
          },
          "metadata": {}
        }
      ],
      "source": [
        "\n",
        "num_cols = list(df.select_dtypes([\"int64\",\"float64\"]))\n",
        "cat_cols = list(df.select_dtypes(\"object\"))\n",
        "\n",
        "\n",
        "cat_col_vis = ['Musim','Bulan','Hari','Cuaca','Hari_Libur','Hari_Kerja']\n",
        "\n",
        "fig, ax = plt.subplots(ncols=1, nrows=6, figsize=(16, 40))\n",
        "                \n",
        "i = 0 \n",
        "\n",
        "for cols in cat_col_vis:\n",
        "    \n",
        "    sns.barplot(x=df[cols], y=df['Jumlah'], fill=True, alpha=1, ci=None, ax=ax[i], palette=('#fcf884', '#a4fc84','#9cfdba',\n",
        "                                                                                                     '#9cfde7','#9cc8fd'),\n",
        "                                                                                            edgecolor=\"#e8f2fd\")\n",
        "                \n",
        "    ax[i].set_xlabel(' ')\n",
        "    ax[i].set_xlabel(' ')\n",
        "    ax[i].set_ylabel(' ')\n",
        "    ax[i].xaxis.set_tick_params(labelsize=14)\n",
        "    ax[i].tick_params(left=False, labelleft=False)\n",
        "    ax[i].set_ylabel(cols, fontsize=16)    \n",
        "    ax[i].grid(False)\n",
        "    ax[i].bar_label(ax[i].containers[0], size=\"12\")\n",
        "    i=i+1\n",
        "    \n",
        "      \n",
        "plt.show()"
      ]
    },
    {
      "cell_type": "markdown",
      "metadata": {
        "id": "Fh44jviWR6yv"
      },
      "source": [
        "Dari data diatas dapat disimpulkan :\n",
        "1. kalau musim dingin memiliki jumlah pengendara paling sedikit dibandingkan musim lainnya.\n",
        "2. cuaca yang buruk sangat mempengaruhi jumlah pengendara\n",
        "3. Jumlah pengendara di hari kerja lebih tinggi dibandingkan hari libur"
      ]
    },
    {
      "cell_type": "markdown",
      "metadata": {
        "id": "7uGsNz5nuIN9"
      },
      "source": [
        "dari visual diatas dapat diketahui bahwa pengendara tahun 2012 lebih banyak dibandingkan tahun 2011"
      ]
    },
    {
      "cell_type": "code",
      "execution_count": 389,
      "metadata": {
        "colab": {
          "base_uri": "https://localhost:8080/",
          "height": 833
        },
        "id": "YxUDbZAYupOY",
        "outputId": "33dfe1a5-a346-42f0-fcbf-4067d5f5b218"
      },
      "outputs": [
        {
          "output_type": "execute_result",
          "data": {
            "text/plain": [
              "        sum\n",
              "Jam        \n",
              "17   336860\n",
              "18   309772\n",
              "8    261001\n",
              "16   227748\n",
              "19   226789\n",
              "13   184919\n",
              "12   184414\n",
              "15   183149\n",
              "14   175652\n",
              "20   164550\n",
              "9    159438\n",
              "7    154171\n",
              "11   151320\n",
              "10   126257\n",
              "21   125445\n",
              "22    95612\n",
              "23    63941\n",
              "6     55132\n",
              "0     39130\n",
              "1     24164\n",
              "2     16352\n",
              "5     14261\n",
              "3      8174\n",
              "4      4428"
            ],
            "text/html": [
              "\n",
              "  <div id=\"df-ee5f4781-b0fa-490f-8332-5cbc6c5c7bb1\">\n",
              "    <div class=\"colab-df-container\">\n",
              "      <div>\n",
              "<style scoped>\n",
              "    .dataframe tbody tr th:only-of-type {\n",
              "        vertical-align: middle;\n",
              "    }\n",
              "\n",
              "    .dataframe tbody tr th {\n",
              "        vertical-align: top;\n",
              "    }\n",
              "\n",
              "    .dataframe thead th {\n",
              "        text-align: right;\n",
              "    }\n",
              "</style>\n",
              "<table border=\"1\" class=\"dataframe\">\n",
              "  <thead>\n",
              "    <tr style=\"text-align: right;\">\n",
              "      <th></th>\n",
              "      <th>sum</th>\n",
              "    </tr>\n",
              "    <tr>\n",
              "      <th>Jam</th>\n",
              "      <th></th>\n",
              "    </tr>\n",
              "  </thead>\n",
              "  <tbody>\n",
              "    <tr>\n",
              "      <th>17</th>\n",
              "      <td>336860</td>\n",
              "    </tr>\n",
              "    <tr>\n",
              "      <th>18</th>\n",
              "      <td>309772</td>\n",
              "    </tr>\n",
              "    <tr>\n",
              "      <th>8</th>\n",
              "      <td>261001</td>\n",
              "    </tr>\n",
              "    <tr>\n",
              "      <th>16</th>\n",
              "      <td>227748</td>\n",
              "    </tr>\n",
              "    <tr>\n",
              "      <th>19</th>\n",
              "      <td>226789</td>\n",
              "    </tr>\n",
              "    <tr>\n",
              "      <th>13</th>\n",
              "      <td>184919</td>\n",
              "    </tr>\n",
              "    <tr>\n",
              "      <th>12</th>\n",
              "      <td>184414</td>\n",
              "    </tr>\n",
              "    <tr>\n",
              "      <th>15</th>\n",
              "      <td>183149</td>\n",
              "    </tr>\n",
              "    <tr>\n",
              "      <th>14</th>\n",
              "      <td>175652</td>\n",
              "    </tr>\n",
              "    <tr>\n",
              "      <th>20</th>\n",
              "      <td>164550</td>\n",
              "    </tr>\n",
              "    <tr>\n",
              "      <th>9</th>\n",
              "      <td>159438</td>\n",
              "    </tr>\n",
              "    <tr>\n",
              "      <th>7</th>\n",
              "      <td>154171</td>\n",
              "    </tr>\n",
              "    <tr>\n",
              "      <th>11</th>\n",
              "      <td>151320</td>\n",
              "    </tr>\n",
              "    <tr>\n",
              "      <th>10</th>\n",
              "      <td>126257</td>\n",
              "    </tr>\n",
              "    <tr>\n",
              "      <th>21</th>\n",
              "      <td>125445</td>\n",
              "    </tr>\n",
              "    <tr>\n",
              "      <th>22</th>\n",
              "      <td>95612</td>\n",
              "    </tr>\n",
              "    <tr>\n",
              "      <th>23</th>\n",
              "      <td>63941</td>\n",
              "    </tr>\n",
              "    <tr>\n",
              "      <th>6</th>\n",
              "      <td>55132</td>\n",
              "    </tr>\n",
              "    <tr>\n",
              "      <th>0</th>\n",
              "      <td>39130</td>\n",
              "    </tr>\n",
              "    <tr>\n",
              "      <th>1</th>\n",
              "      <td>24164</td>\n",
              "    </tr>\n",
              "    <tr>\n",
              "      <th>2</th>\n",
              "      <td>16352</td>\n",
              "    </tr>\n",
              "    <tr>\n",
              "      <th>5</th>\n",
              "      <td>14261</td>\n",
              "    </tr>\n",
              "    <tr>\n",
              "      <th>3</th>\n",
              "      <td>8174</td>\n",
              "    </tr>\n",
              "    <tr>\n",
              "      <th>4</th>\n",
              "      <td>4428</td>\n",
              "    </tr>\n",
              "  </tbody>\n",
              "</table>\n",
              "</div>\n",
              "      <button class=\"colab-df-convert\" onclick=\"convertToInteractive('df-ee5f4781-b0fa-490f-8332-5cbc6c5c7bb1')\"\n",
              "              title=\"Convert this dataframe to an interactive table.\"\n",
              "              style=\"display:none;\">\n",
              "        \n",
              "  <svg xmlns=\"http://www.w3.org/2000/svg\" height=\"24px\"viewBox=\"0 0 24 24\"\n",
              "       width=\"24px\">\n",
              "    <path d=\"M0 0h24v24H0V0z\" fill=\"none\"/>\n",
              "    <path d=\"M18.56 5.44l.94 2.06.94-2.06 2.06-.94-2.06-.94-.94-2.06-.94 2.06-2.06.94zm-11 1L8.5 8.5l.94-2.06 2.06-.94-2.06-.94L8.5 2.5l-.94 2.06-2.06.94zm10 10l.94 2.06.94-2.06 2.06-.94-2.06-.94-.94-2.06-.94 2.06-2.06.94z\"/><path d=\"M17.41 7.96l-1.37-1.37c-.4-.4-.92-.59-1.43-.59-.52 0-1.04.2-1.43.59L10.3 9.45l-7.72 7.72c-.78.78-.78 2.05 0 2.83L4 21.41c.39.39.9.59 1.41.59.51 0 1.02-.2 1.41-.59l7.78-7.78 2.81-2.81c.8-.78.8-2.07 0-2.86zM5.41 20L4 18.59l7.72-7.72 1.47 1.35L5.41 20z\"/>\n",
              "  </svg>\n",
              "      </button>\n",
              "      \n",
              "  <style>\n",
              "    .colab-df-container {\n",
              "      display:flex;\n",
              "      flex-wrap:wrap;\n",
              "      gap: 12px;\n",
              "    }\n",
              "\n",
              "    .colab-df-convert {\n",
              "      background-color: #E8F0FE;\n",
              "      border: none;\n",
              "      border-radius: 50%;\n",
              "      cursor: pointer;\n",
              "      display: none;\n",
              "      fill: #1967D2;\n",
              "      height: 32px;\n",
              "      padding: 0 0 0 0;\n",
              "      width: 32px;\n",
              "    }\n",
              "\n",
              "    .colab-df-convert:hover {\n",
              "      background-color: #E2EBFA;\n",
              "      box-shadow: 0px 1px 2px rgba(60, 64, 67, 0.3), 0px 1px 3px 1px rgba(60, 64, 67, 0.15);\n",
              "      fill: #174EA6;\n",
              "    }\n",
              "\n",
              "    [theme=dark] .colab-df-convert {\n",
              "      background-color: #3B4455;\n",
              "      fill: #D2E3FC;\n",
              "    }\n",
              "\n",
              "    [theme=dark] .colab-df-convert:hover {\n",
              "      background-color: #434B5C;\n",
              "      box-shadow: 0px 1px 3px 1px rgba(0, 0, 0, 0.15);\n",
              "      filter: drop-shadow(0px 1px 2px rgba(0, 0, 0, 0.3));\n",
              "      fill: #FFFFFF;\n",
              "    }\n",
              "  </style>\n",
              "\n",
              "      <script>\n",
              "        const buttonEl =\n",
              "          document.querySelector('#df-ee5f4781-b0fa-490f-8332-5cbc6c5c7bb1 button.colab-df-convert');\n",
              "        buttonEl.style.display =\n",
              "          google.colab.kernel.accessAllowed ? 'block' : 'none';\n",
              "\n",
              "        async function convertToInteractive(key) {\n",
              "          const element = document.querySelector('#df-ee5f4781-b0fa-490f-8332-5cbc6c5c7bb1');\n",
              "          const dataTable =\n",
              "            await google.colab.kernel.invokeFunction('convertToInteractive',\n",
              "                                                     [key], {});\n",
              "          if (!dataTable) return;\n",
              "\n",
              "          const docLinkHtml = 'Like what you see? Visit the ' +\n",
              "            '<a target=\"_blank\" href=https://colab.research.google.com/notebooks/data_table.ipynb>data table notebook</a>'\n",
              "            + ' to learn more about interactive tables.';\n",
              "          element.innerHTML = '';\n",
              "          dataTable['output_type'] = 'display_data';\n",
              "          await google.colab.output.renderOutput(dataTable, element);\n",
              "          const docLink = document.createElement('div');\n",
              "          docLink.innerHTML = docLinkHtml;\n",
              "          element.appendChild(docLink);\n",
              "        }\n",
              "      </script>\n",
              "    </div>\n",
              "  </div>\n",
              "  "
            ]
          },
          "metadata": {},
          "execution_count": 389
        }
      ],
      "source": [
        "x=df.groupby([\"Jam\"])[\"Jumlah\"].agg([\"sum\"])\n",
        "x = x.sort_values(by=\"sum\",ascending=False)\n",
        "x"
      ]
    },
    {
      "cell_type": "markdown",
      "metadata": {
        "id": "NW0cut_XwoK-"
      },
      "source": [
        "Jam lima sore adalah puncak pemakaian sepeda"
      ]
    },
    {
      "cell_type": "code",
      "execution_count": 390,
      "metadata": {
        "colab": {
          "base_uri": "https://localhost:8080/",
          "height": 398
        },
        "id": "5NVIfTrsxZv8",
        "outputId": "0dc57db0-23f2-42ed-f3e0-b201a01ad20d"
      },
      "outputs": [
        {
          "output_type": "display_data",
          "data": {
            "text/plain": [
              "<Figure size 1080x288 with 0 Axes>"
            ]
          },
          "metadata": {}
        },
        {
          "output_type": "display_data",
          "data": {
            "text/plain": [
              "<Figure size 360x360 with 1 Axes>"
            ],
            "image/png": "[encoded data removed]"
          },
          "metadata": {}
        }
      ],
      "source": [
        "#suhu\n",
        "plt.figure(figsize=(15,4))\n",
        "sns.relplot(x='Suhu',y=\"Jumlah\",kind=\"line\",data=df)\n",
        "plt.title(\" Jumlah Rental x Suhu\",) \n",
        "plt.xlabel(\"Suhu\")\n",
        "plt.ylabel(\"Jumlah Rental\")\n",
        "plt.show()"
      ]
    },
    {
      "cell_type": "markdown",
      "metadata": {
        "id": "UtlVDBMAx5zo"
      },
      "source": [
        "Hasil diatas mengatakan kenaikan suhu mengakibatkan kenaikan pengendara sepeda"
      ]
    },
    {
      "cell_type": "code",
      "execution_count": 391,
      "metadata": {
        "colab": {
          "base_uri": "https://localhost:8080/",
          "height": 398
        },
        "id": "647ZD7tJyPY6",
        "outputId": "d423f606-ef67-4adc-abb9-aff4ef4feee7"
      },
      "outputs": [
        {
          "output_type": "display_data",
          "data": {
            "text/plain": [
              "<Figure size 1080x288 with 0 Axes>"
            ]
          },
          "metadata": {}
        },
        {
          "output_type": "display_data",
          "data": {
            "text/plain": [
              "<Figure size 360x360 with 1 Axes>"
            ],
            "image/png": "[encoded data removed]"
          },
          "metadata": {}
        }
      ],
      "source": [
        "#Kelembaban Udara\n",
        "plt.figure(figsize=(15,4))\n",
        "sns.relplot(x='Kelembaban',y=\"Jumlah\",kind=\"line\",data=df)\n",
        "plt.title(\"Jumlah Rental vs Kelembaban\") \n",
        "plt.xlabel(\"Kelembaban\")\n",
        "plt.ylabel(\"Jumlah Rental\")\n",
        "plt.show()"
      ]
    },
    {
      "cell_type": "markdown",
      "metadata": {
        "id": "ebiXqmpdyUqe"
      },
      "source": [
        "Hal ini berarti jika kelembaban udara meningkat maka pengendara sepeda akan menurun"
      ]
    },
    {
      "cell_type": "code",
      "execution_count": 392,
      "metadata": {
        "colab": {
          "base_uri": "https://localhost:8080/",
          "height": 398
        },
        "id": "X0a4CBt5yjGd",
        "outputId": "9b45c4dd-5d58-4792-d761-0cfa41ed98e8"
      },
      "outputs": [
        {
          "output_type": "display_data",
          "data": {
            "text/plain": [
              "<Figure size 1080x288 with 0 Axes>"
            ]
          },
          "metadata": {}
        },
        {
          "output_type": "display_data",
          "data": {
            "text/plain": [
              "<Figure size 360x360 with 1 Axes>"
            ],
            "image/png": "[encoded data removed]"
          },
          "metadata": {}
        }
      ],
      "source": [
        "#Kecepatan Angin\n",
        "plt.figure(figsize=(15,4))\n",
        "sns.relplot(x='Kecepatan_Angin',y=\"Jumlah\",kind=\"line\",data=df)\n",
        "plt.title(\"Jumlah Rental vs Kecepatan Angin\") \n",
        "plt.xlabel(\"Kecepatan_Angin\")\n",
        "plt.ylabel(\"Jumlah Rental\")\n",
        "plt.show()"
      ]
    },
    {
      "cell_type": "markdown",
      "metadata": {
        "id": "wS9Bk-YMy-wm"
      },
      "source": [
        "tidak ada hubungan linear yang dapat disimpulkan dari visual diatas"
      ]
    },
    {
      "cell_type": "markdown",
      "metadata": {
        "id": "PkXf6lMPRlAq"
      },
      "source": [
        "##Check Correlation"
      ]
    },
    {
      "cell_type": "code",
      "execution_count": 393,
      "metadata": {
        "colab": {
          "base_uri": "https://localhost:8080/",
          "height": 597
        },
        "id": "ANg5uxS8RNcy",
        "outputId": "29dd8c4a-c89f-436c-da8d-5b62b4b1672e"
      },
      "outputs": [
        {
          "output_type": "display_data",
          "data": {
            "text/plain": [
              "<Figure size 1080x576 with 2 Axes>"
            ],
            "image/png": "[encoded data removed]"
          },
          "metadata": {}
        }
      ],
      "source": [
        "bike_train = dfm\n",
        "corr = bike_train.corr()\n",
        "\n",
        "plt.figure(figsize=(15,8))\n",
        "sns.heatmap(corr, annot=True, fmt='.2f')\n",
        "plt.show()"
      ]
    },
    {
      "cell_type": "code",
      "execution_count": 394,
      "metadata": {
        "id": "Fva0REkKR4ej"
      },
      "outputs": [],
      "source": [
        "dfm=dfm.drop(['Musim','Suhu yang Dirasakan'],1)"
      ]
    },
    {
      "cell_type": "code",
      "execution_count": 395,
      "metadata": {
        "colab": {
          "base_uri": "https://localhost:8080/",
          "height": 575
        },
        "id": "hQQV_WjZ9bu3",
        "outputId": "ec64db64-3ea8-4bc2-c849-62fbf582e529"
      },
      "outputs": [
        {
          "output_type": "display_data",
          "data": {
            "text/plain": [
              "<Figure size 1080x576 with 2 Axes>"
            ],
            "image/png": "[encoded data removed]"
          },
          "metadata": {}
        }
      ],
      "source": [
        "bike_train = dfm\n",
        "corr = bike_train.corr()\n",
        "\n",
        "plt.figure(figsize=(15,8))\n",
        "sns.heatmap(corr, annot=True, fmt='.2f')\n",
        "plt.show()"
      ]
    },
    {
      "cell_type": "markdown",
      "metadata": {
        "id": "mahpE7mf19hT"
      },
      "source": [
        "##Split data dan shift satu hari"
      ]
    },
    {
      "cell_type": "code",
      "execution_count": 396,
      "metadata": {
        "id": "MmP3-bCJ18gw"
      },
      "outputs": [],
      "source": [
        "Y = dfm.pop('Jumlah')\n",
        "days = 1"
      ]
    },
    {
      "cell_type": "code",
      "source": [
        "Y.tail(5)"
      ],
      "metadata": {
        "colab": {
          "base_uri": "https://localhost:8080/"
        },
        "id": "mequ5UI6icBR",
        "outputId": "65ddde2b-686a-43c1-b62b-41593f79b603"
      },
      "execution_count": 397,
      "outputs": [
        {
          "output_type": "execute_result",
          "data": {
            "text/plain": [
              "726    2114\n",
              "727    3095\n",
              "728    1341\n",
              "729    1796\n",
              "730    2729\n",
              "Name: Jumlah, dtype: int64"
            ]
          },
          "metadata": {},
          "execution_count": 397
        }
      ]
    },
    {
      "cell_type": "code",
      "source": [
        "X = dfm\n",
        "X.tail(5)"
      ],
      "metadata": {
        "colab": {
          "base_uri": "https://localhost:8080/",
          "height": 206
        },
        "id": "wU3tv0wvgPuN",
        "outputId": "496ee998-a8bc-4d2e-df0c-9e09053cb229"
      },
      "execution_count": 398,
      "outputs": [
        {
          "output_type": "execute_result",
          "data": {
            "text/plain": [
              "     Tahun  Bulan  Hari  Hari_Kerja  Cuaca  Suhu  Kelembaban  Kecepatan_Angin\n",
              "726      1     12     4           1      2  0.25        0.65             0.35\n",
              "727      1     12     5           1      2  0.25        0.59             0.16\n",
              "728      1     12     6           0      2  0.25        0.75             0.12\n",
              "729      1     12     0           0      1  0.26        0.48             0.35\n",
              "730      1     12     1           1      2  0.22        0.58             0.15"
            ],
            "text/html": [
              "\n",
              "  <div id=\"df-816f1637-d68e-413f-83cf-804bc3b49f21\">\n",
              "    <div class=\"colab-df-container\">\n",
              "      <div>\n",
              "<style scoped>\n",
              "    .dataframe tbody tr th:only-of-type {\n",
              "        vertical-align: middle;\n",
              "    }\n",
              "\n",
              "    .dataframe tbody tr th {\n",
              "        vertical-align: top;\n",
              "    }\n",
              "\n",
              "    .dataframe thead th {\n",
              "        text-align: right;\n",
              "    }\n",
              "</style>\n",
              "<table border=\"1\" class=\"dataframe\">\n",
              "  <thead>\n",
              "    <tr style=\"text-align: right;\">\n",
              "      <th></th>\n",
              "      <th>Tahun</th>\n",
              "      <th>Bulan</th>\n",
              "      <th>Hari</th>\n",
              "      <th>Hari_Kerja</th>\n",
              "      <th>Cuaca</th>\n",
              "      <th>Suhu</th>\n",
              "      <th>Kelembaban</th>\n",
              "      <th>Kecepatan_Angin</th>\n",
              "    </tr>\n",
              "  </thead>\n",
              "  <tbody>\n",
              "    <tr>\n",
              "      <th>726</th>\n",
              "      <td>1</td>\n",
              "      <td>12</td>\n",
              "      <td>4</td>\n",
              "      <td>1</td>\n",
              "      <td>2</td>\n",
              "      <td>0.25</td>\n",
              "      <td>0.65</td>\n",
              "      <td>0.35</td>\n",
              "    </tr>\n",
              "    <tr>\n",
              "      <th>727</th>\n",
              "      <td>1</td>\n",
              "      <td>12</td>\n",
              "      <td>5</td>\n",
              "      <td>1</td>\n",
              "      <td>2</td>\n",
              "      <td>0.25</td>\n",
              "      <td>0.59</td>\n",
              "      <td>0.16</td>\n",
              "    </tr>\n",
              "    <tr>\n",
              "      <th>728</th>\n",
              "      <td>1</td>\n",
              "      <td>12</td>\n",
              "      <td>6</td>\n",
              "      <td>0</td>\n",
              "      <td>2</td>\n",
              "      <td>0.25</td>\n",
              "      <td>0.75</td>\n",
              "      <td>0.12</td>\n",
              "    </tr>\n",
              "    <tr>\n",
              "      <th>729</th>\n",
              "      <td>1</td>\n",
              "      <td>12</td>\n",
              "      <td>0</td>\n",
              "      <td>0</td>\n",
              "      <td>1</td>\n",
              "      <td>0.26</td>\n",
              "      <td>0.48</td>\n",
              "      <td>0.35</td>\n",
              "    </tr>\n",
              "    <tr>\n",
              "      <th>730</th>\n",
              "      <td>1</td>\n",
              "      <td>12</td>\n",
              "      <td>1</td>\n",
              "      <td>1</td>\n",
              "      <td>2</td>\n",
              "      <td>0.22</td>\n",
              "      <td>0.58</td>\n",
              "      <td>0.15</td>\n",
              "    </tr>\n",
              "  </tbody>\n",
              "</table>\n",
              "</div>\n",
              "      <button class=\"colab-df-convert\" onclick=\"convertToInteractive('df-816f1637-d68e-413f-83cf-804bc3b49f21')\"\n",
              "              title=\"Convert this dataframe to an interactive table.\"\n",
              "              style=\"display:none;\">\n",
              "        \n",
              "  <svg xmlns=\"http://www.w3.org/2000/svg\" height=\"24px\"viewBox=\"0 0 24 24\"\n",
              "       width=\"24px\">\n",
              "    <path d=\"M0 0h24v24H0V0z\" fill=\"none\"/>\n",
              "    <path d=\"M18.56 5.44l.94 2.06.94-2.06 2.06-.94-2.06-.94-.94-2.06-.94 2.06-2.06.94zm-11 1L8.5 8.5l.94-2.06 2.06-.94-2.06-.94L8.5 2.5l-.94 2.06-2.06.94zm10 10l.94 2.06.94-2.06 2.06-.94-2.06-.94-.94-2.06-.94 2.06-2.06.94z\"/><path d=\"M17.41 7.96l-1.37-1.37c-.4-.4-.92-.59-1.43-.59-.52 0-1.04.2-1.43.59L10.3 9.45l-7.72 7.72c-.78.78-.78 2.05 0 2.83L4 21.41c.39.39.9.59 1.41.59.51 0 1.02-.2 1.41-.59l7.78-7.78 2.81-2.81c.8-.78.8-2.07 0-2.86zM5.41 20L4 18.59l7.72-7.72 1.47 1.35L5.41 20z\"/>\n",
              "  </svg>\n",
              "      </button>\n",
              "      \n",
              "  <style>\n",
              "    .colab-df-container {\n",
              "      display:flex;\n",
              "      flex-wrap:wrap;\n",
              "      gap: 12px;\n",
              "    }\n",
              "\n",
              "    .colab-df-convert {\n",
              "      background-color: #E8F0FE;\n",
              "      border: none;\n",
              "      border-radius: 50%;\n",
              "      cursor: pointer;\n",
              "      display: none;\n",
              "      fill: #1967D2;\n",
              "      height: 32px;\n",
              "      padding: 0 0 0 0;\n",
              "      width: 32px;\n",
              "    }\n",
              "\n",
              "    .colab-df-convert:hover {\n",
              "      background-color: #E2EBFA;\n",
              "      box-shadow: 0px 1px 2px rgba(60, 64, 67, 0.3), 0px 1px 3px 1px rgba(60, 64, 67, 0.15);\n",
              "      fill: #174EA6;\n",
              "    }\n",
              "\n",
              "    [theme=dark] .colab-df-convert {\n",
              "      background-color: #3B4455;\n",
              "      fill: #D2E3FC;\n",
              "    }\n",
              "\n",
              "    [theme=dark] .colab-df-convert:hover {\n",
              "      background-color: #434B5C;\n",
              "      box-shadow: 0px 1px 3px 1px rgba(0, 0, 0, 0.15);\n",
              "      filter: drop-shadow(0px 1px 2px rgba(0, 0, 0, 0.3));\n",
              "      fill: #FFFFFF;\n",
              "    }\n",
              "  </style>\n",
              "\n",
              "      <script>\n",
              "        const buttonEl =\n",
              "          document.querySelector('#df-816f1637-d68e-413f-83cf-804bc3b49f21 button.colab-df-convert');\n",
              "        buttonEl.style.display =\n",
              "          google.colab.kernel.accessAllowed ? 'block' : 'none';\n",
              "\n",
              "        async function convertToInteractive(key) {\n",
              "          const element = document.querySelector('#df-816f1637-d68e-413f-83cf-804bc3b49f21');\n",
              "          const dataTable =\n",
              "            await google.colab.kernel.invokeFunction('convertToInteractive',\n",
              "                                                     [key], {});\n",
              "          if (!dataTable) return;\n",
              "\n",
              "          const docLinkHtml = 'Like what you see? Visit the ' +\n",
              "            '<a target=\"_blank\" href=https://colab.research.google.com/notebooks/data_table.ipynb>data table notebook</a>'\n",
              "            + ' to learn more about interactive tables.';\n",
              "          element.innerHTML = '';\n",
              "          dataTable['output_type'] = 'display_data';\n",
              "          await google.colab.output.renderOutput(dataTable, element);\n",
              "          const docLink = document.createElement('div');\n",
              "          docLink.innerHTML = docLinkHtml;\n",
              "          element.appendChild(docLink);\n",
              "        }\n",
              "      </script>\n",
              "    </div>\n",
              "  </div>\n",
              "  "
            ]
          },
          "metadata": {},
          "execution_count": 398
        }
      ]
    },
    {
      "cell_type": "code",
      "source": [
        "Y = Y.shift(-1*days)"
      ],
      "metadata": {
        "id": "D8tvMl9aiN3y"
      },
      "execution_count": 399,
      "outputs": []
    },
    {
      "cell_type": "code",
      "source": [
        "X = X[:len(dfm) - days]\n",
        "Y = Y[:-days] \n",
        "\n",
        "\n",
        "X.shape, Y.shape"
      ],
      "metadata": {
        "colab": {
          "base_uri": "https://localhost:8080/"
        },
        "id": "yfJqCiTCiTG6",
        "outputId": "d037932d-5561-4a54-d34f-1776585cc43f"
      },
      "execution_count": 400,
      "outputs": [
        {
          "output_type": "execute_result",
          "data": {
            "text/plain": [
              "((730, 8), (730,))"
            ]
          },
          "metadata": {},
          "execution_count": 400
        }
      ]
    },
    {
      "cell_type": "code",
      "source": [
        "X.tail(5)"
      ],
      "metadata": {
        "colab": {
          "base_uri": "https://localhost:8080/",
          "height": 206
        },
        "id": "NYj9VC0hiY8f",
        "outputId": "6f82e236-db1f-4d43-e839-3651a60a4671"
      },
      "execution_count": 401,
      "outputs": [
        {
          "output_type": "execute_result",
          "data": {
            "text/plain": [
              "     Tahun  Bulan  Hari  Hari_Kerja  Cuaca  Suhu  Kelembaban  Kecepatan_Angin\n",
              "725      1     12     3           1      3  0.24        0.82             0.32\n",
              "726      1     12     4           1      2  0.25        0.65             0.35\n",
              "727      1     12     5           1      2  0.25        0.59             0.16\n",
              "728      1     12     6           0      2  0.25        0.75             0.12\n",
              "729      1     12     0           0      1  0.26        0.48             0.35"
            ],
            "text/html": [
              "\n",
              "  <div id=\"df-7eff35f5-bbec-4d31-abb3-158ffee2303f\">\n",
              "    <div class=\"colab-df-container\">\n",
              "      <div>\n",
              "<style scoped>\n",
              "    .dataframe tbody tr th:only-of-type {\n",
              "        vertical-align: middle;\n",
              "    }\n",
              "\n",
              "    .dataframe tbody tr th {\n",
              "        vertical-align: top;\n",
              "    }\n",
              "\n",
              "    .dataframe thead th {\n",
              "        text-align: right;\n",
              "    }\n",
              "</style>\n",
              "<table border=\"1\" class=\"dataframe\">\n",
              "  <thead>\n",
              "    <tr style=\"text-align: right;\">\n",
              "      <th></th>\n",
              "      <th>Tahun</th>\n",
              "      <th>Bulan</th>\n",
              "      <th>Hari</th>\n",
              "      <th>Hari_Kerja</th>\n",
              "      <th>Cuaca</th>\n",
              "      <th>Suhu</th>\n",
              "      <th>Kelembaban</th>\n",
              "      <th>Kecepatan_Angin</th>\n",
              "    </tr>\n",
              "  </thead>\n",
              "  <tbody>\n",
              "    <tr>\n",
              "      <th>725</th>\n",
              "      <td>1</td>\n",
              "      <td>12</td>\n",
              "      <td>3</td>\n",
              "      <td>1</td>\n",
              "      <td>3</td>\n",
              "      <td>0.24</td>\n",
              "      <td>0.82</td>\n",
              "      <td>0.32</td>\n",
              "    </tr>\n",
              "    <tr>\n",
              "      <th>726</th>\n",
              "      <td>1</td>\n",
              "      <td>12</td>\n",
              "      <td>4</td>\n",
              "      <td>1</td>\n",
              "      <td>2</td>\n",
              "      <td>0.25</td>\n",
              "      <td>0.65</td>\n",
              "      <td>0.35</td>\n",
              "    </tr>\n",
              "    <tr>\n",
              "      <th>727</th>\n",
              "      <td>1</td>\n",
              "      <td>12</td>\n",
              "      <td>5</td>\n",
              "      <td>1</td>\n",
              "      <td>2</td>\n",
              "      <td>0.25</td>\n",
              "      <td>0.59</td>\n",
              "      <td>0.16</td>\n",
              "    </tr>\n",
              "    <tr>\n",
              "      <th>728</th>\n",
              "      <td>1</td>\n",
              "      <td>12</td>\n",
              "      <td>6</td>\n",
              "      <td>0</td>\n",
              "      <td>2</td>\n",
              "      <td>0.25</td>\n",
              "      <td>0.75</td>\n",
              "      <td>0.12</td>\n",
              "    </tr>\n",
              "    <tr>\n",
              "      <th>729</th>\n",
              "      <td>1</td>\n",
              "      <td>12</td>\n",
              "      <td>0</td>\n",
              "      <td>0</td>\n",
              "      <td>1</td>\n",
              "      <td>0.26</td>\n",
              "      <td>0.48</td>\n",
              "      <td>0.35</td>\n",
              "    </tr>\n",
              "  </tbody>\n",
              "</table>\n",
              "</div>\n",
              "      <button class=\"colab-df-convert\" onclick=\"convertToInteractive('df-7eff35f5-bbec-4d31-abb3-158ffee2303f')\"\n",
              "              title=\"Convert this dataframe to an interactive table.\"\n",
              "              style=\"display:none;\">\n",
              "        \n",
              "  <svg xmlns=\"http://www.w3.org/2000/svg\" height=\"24px\"viewBox=\"0 0 24 24\"\n",
              "       width=\"24px\">\n",
              "    <path d=\"M0 0h24v24H0V0z\" fill=\"none\"/>\n",
              "    <path d=\"M18.56 5.44l.94 2.06.94-2.06 2.06-.94-2.06-.94-.94-2.06-.94 2.06-2.06.94zm-11 1L8.5 8.5l.94-2.06 2.06-.94-2.06-.94L8.5 2.5l-.94 2.06-2.06.94zm10 10l.94 2.06.94-2.06 2.06-.94-2.06-.94-.94-2.06-.94 2.06-2.06.94z\"/><path d=\"M17.41 7.96l-1.37-1.37c-.4-.4-.92-.59-1.43-.59-.52 0-1.04.2-1.43.59L10.3 9.45l-7.72 7.72c-.78.78-.78 2.05 0 2.83L4 21.41c.39.39.9.59 1.41.59.51 0 1.02-.2 1.41-.59l7.78-7.78 2.81-2.81c.8-.78.8-2.07 0-2.86zM5.41 20L4 18.59l7.72-7.72 1.47 1.35L5.41 20z\"/>\n",
              "  </svg>\n",
              "      </button>\n",
              "      \n",
              "  <style>\n",
              "    .colab-df-container {\n",
              "      display:flex;\n",
              "      flex-wrap:wrap;\n",
              "      gap: 12px;\n",
              "    }\n",
              "\n",
              "    .colab-df-convert {\n",
              "      background-color: #E8F0FE;\n",
              "      border: none;\n",
              "      border-radius: 50%;\n",
              "      cursor: pointer;\n",
              "      display: none;\n",
              "      fill: #1967D2;\n",
              "      height: 32px;\n",
              "      padding: 0 0 0 0;\n",
              "      width: 32px;\n",
              "    }\n",
              "\n",
              "    .colab-df-convert:hover {\n",
              "      background-color: #E2EBFA;\n",
              "      box-shadow: 0px 1px 2px rgba(60, 64, 67, 0.3), 0px 1px 3px 1px rgba(60, 64, 67, 0.15);\n",
              "      fill: #174EA6;\n",
              "    }\n",
              "\n",
              "    [theme=dark] .colab-df-convert {\n",
              "      background-color: #3B4455;\n",
              "      fill: #D2E3FC;\n",
              "    }\n",
              "\n",
              "    [theme=dark] .colab-df-convert:hover {\n",
              "      background-color: #434B5C;\n",
              "      box-shadow: 0px 1px 3px 1px rgba(0, 0, 0, 0.15);\n",
              "      filter: drop-shadow(0px 1px 2px rgba(0, 0, 0, 0.3));\n",
              "      fill: #FFFFFF;\n",
              "    }\n",
              "  </style>\n",
              "\n",
              "      <script>\n",
              "        const buttonEl =\n",
              "          document.querySelector('#df-7eff35f5-bbec-4d31-abb3-158ffee2303f button.colab-df-convert');\n",
              "        buttonEl.style.display =\n",
              "          google.colab.kernel.accessAllowed ? 'block' : 'none';\n",
              "\n",
              "        async function convertToInteractive(key) {\n",
              "          const element = document.querySelector('#df-7eff35f5-bbec-4d31-abb3-158ffee2303f');\n",
              "          const dataTable =\n",
              "            await google.colab.kernel.invokeFunction('convertToInteractive',\n",
              "                                                     [key], {});\n",
              "          if (!dataTable) return;\n",
              "\n",
              "          const docLinkHtml = 'Like what you see? Visit the ' +\n",
              "            '<a target=\"_blank\" href=https://colab.research.google.com/notebooks/data_table.ipynb>data table notebook</a>'\n",
              "            + ' to learn more about interactive tables.';\n",
              "          element.innerHTML = '';\n",
              "          dataTable['output_type'] = 'display_data';\n",
              "          await google.colab.output.renderOutput(dataTable, element);\n",
              "          const docLink = document.createElement('div');\n",
              "          docLink.innerHTML = docLinkHtml;\n",
              "          element.appendChild(docLink);\n",
              "        }\n",
              "      </script>\n",
              "    </div>\n",
              "  </div>\n",
              "  "
            ]
          },
          "metadata": {},
          "execution_count": 401
        }
      ]
    },
    {
      "cell_type": "code",
      "source": [
        "Y.tail(5)"
      ],
      "metadata": {
        "colab": {
          "base_uri": "https://localhost:8080/"
        },
        "id": "853nlMr3glb7",
        "outputId": "448696ef-37d2-48c5-d78e-d9f06cc9952b"
      },
      "execution_count": 402,
      "outputs": [
        {
          "output_type": "execute_result",
          "data": {
            "text/plain": [
              "725   2114.00\n",
              "726   3095.00\n",
              "727   1341.00\n",
              "728   1796.00\n",
              "729   2729.00\n",
              "Name: Jumlah, dtype: float64"
            ]
          },
          "metadata": {},
          "execution_count": 402
        }
      ]
    },
    {
      "cell_type": "code",
      "execution_count": 403,
      "metadata": {
        "id": "Vc5nQbXdtWVm"
      },
      "outputs": [],
      "source": [
        "from sklearn.model_selection import train_test_split\n",
        "from sklearn.metrics import r2_score,mean_squared_error, mean_absolute_error\n",
        "from sklearn.ensemble import  RandomForestRegressor"
      ]
    },
    {
      "cell_type": "code",
      "execution_count": 404,
      "metadata": {
        "id": "7vwuYMhitcr6"
      },
      "outputs": [],
      "source": [
        "X_train, X_test, Y_train, Y_test = train_test_split(X, Y, test_size=0.3, random_state=42)"
      ]
    },
    {
      "cell_type": "code",
      "source": [
        "prediction_x_array = X\n",
        "prediction_x_array = prediction_x_array[-days:]\n",
        "print(type(prediction_x_array))"
      ],
      "metadata": {
        "colab": {
          "base_uri": "https://localhost:8080/"
        },
        "id": "Eu0HxB765CDe",
        "outputId": "5553d9db-1920-4d14-f410-c67f18f392bb"
      },
      "execution_count": 405,
      "outputs": [
        {
          "output_type": "stream",
          "name": "stdout",
          "text": [
            "<class 'pandas.core.frame.DataFrame'>\n"
          ]
        }
      ]
    },
    {
      "cell_type": "markdown",
      "metadata": {
        "id": "5duLSHfw2VvB"
      },
      "source": [
        "##Check Outlier"
      ]
    },
    {
      "cell_type": "code",
      "execution_count": 406,
      "metadata": {
        "id": "DR4rLdMgxHDs"
      },
      "outputs": [],
      "source": [
        "feat_xtrain = list(X_train)"
      ]
    },
    {
      "cell_type": "code",
      "execution_count": 407,
      "metadata": {
        "colab": {
          "base_uri": "https://localhost:8080/",
          "height": 509
        },
        "id": "2dzEAoIQxH4K",
        "outputId": "5b7d187b-cf47-4aad-b10e-75a8ae8fbd88"
      },
      "outputs": [
        {
          "output_type": "display_data",
          "data": {
            "text/plain": [
              "<Figure size 1440x504 with 8 Axes>"
            ],
            "image/png": "[encoded data removed]"
          },
          "metadata": {}
        }
      ],
      "source": [
        "plt.figure(figsize=(20, 7))\n",
        "for i in range(0, len(feat_xtrain)):\n",
        "    plt.subplot(1, 18, i+1)\n",
        "    sns.boxplot(y=X_train[feat_xtrain[i]],color='purple',orient='v')\n",
        "    plt.tight_layout()"
      ]
    },
    {
      "cell_type": "code",
      "source": [
        "X_train['Kecepatan_Angin'] = np.sqrt(X_train['Kecepatan_Angin'])"
      ],
      "metadata": {
        "id": "84Cr2B4t8I0g"
      },
      "execution_count": 408,
      "outputs": []
    },
    {
      "cell_type": "code",
      "execution_count": 409,
      "metadata": {
        "colab": {
          "base_uri": "https://localhost:8080/",
          "height": 509
        },
        "id": "kY-XIsez4Srs",
        "outputId": "6bf50e54-4a85-4cfe-82da-342aea723cd9"
      },
      "outputs": [
        {
          "output_type": "display_data",
          "data": {
            "text/plain": [
              "<Figure size 1440x504 with 8 Axes>"
            ],
            "image/png": "[encoded data removed]"
          },
          "metadata": {}
        }
      ],
      "source": [
        "plt.figure(figsize=(20, 7))\n",
        "for i in range(0, len(feat_xtrain)):\n",
        "    plt.subplot(1, 18, i+1)\n",
        "    sns.boxplot(y=X_train[feat_xtrain[i]],color='green',orient='v')\n",
        "    plt.tight_layout()"
      ]
    },
    {
      "cell_type": "code",
      "execution_count": 410,
      "metadata": {
        "id": "kRvOdx07GcdE"
      },
      "outputs": [],
      "source": [
        "scaler = MinMaxScaler()\n",
        "X_train = scaler.fit_transform(X_train)\n",
        "X_test = scaler.transform(X_test)"
      ]
    },
    {
      "cell_type": "markdown",
      "metadata": {
        "id": "RZ_TfNhtth0o"
      },
      "source": [
        "##Random Forest Regressor"
      ]
    },
    {
      "cell_type": "code",
      "execution_count": 411,
      "metadata": {
        "id": "ASP_VaI43GWi"
      },
      "outputs": [],
      "source": [
        "model_rf = RandomForestRegressor(random_state=42)"
      ]
    },
    {
      "cell_type": "code",
      "execution_count": 412,
      "metadata": {
        "id": "V0hbyts94DQo"
      },
      "outputs": [],
      "source": [
        "model_rf.fit(X_train, Y_train)\n",
        "pred_rf = model_rf.predict(X_test)"
      ]
    },
    {
      "cell_type": "code",
      "execution_count": 413,
      "metadata": {
        "colab": {
          "base_uri": "https://localhost:8080/"
        },
        "id": "NuERB7B64KG1",
        "outputId": "6d903811-5886-43c6-b90f-e75f2141f157"
      },
      "outputs": [
        {
          "output_type": "stream",
          "name": "stdout",
          "text": [
            "Testing RMSE:  1005.912992241059\n",
            "Testing MAE:  738.706894977169\n",
            "Testing R2:  0.7358824297852926\n"
          ]
        }
      ],
      "source": [
        "#Data Test\n",
        "print('Testing RMSE: ', np.sqrt(mean_squared_error(Y_test, pred_rf)))\n",
        "print('Testing MAE: ',  mean_absolute_error(Y_test, pred_rf))\n",
        "print('Testing R2: ',  r2_score(Y_test, pred_rf))"
      ]
    },
    {
      "cell_type": "code",
      "execution_count": 414,
      "metadata": {
        "id": "My8VzE8z4SXE"
      },
      "outputs": [],
      "source": [
        "pred_rf_trn = model_rf.predict(X_train)"
      ]
    },
    {
      "cell_type": "code",
      "execution_count": 415,
      "metadata": {
        "colab": {
          "base_uri": "https://localhost:8080/"
        },
        "id": "UPoIz9dC4XVT",
        "outputId": "5065e054-b7ae-4a7b-f984-f4f311114a4f"
      },
      "outputs": [
        {
          "output_type": "stream",
          "name": "stdout",
          "text": [
            "Training RMSE:  383.5879124371701\n",
            "Training MAE:  271.6052054794521\n",
            "Training R2:  0.9600204026303186\n"
          ]
        }
      ],
      "source": [
        "#Data train\n",
        "print('Training RMSE: ', np.sqrt(mean_squared_error(Y_train, pred_rf_trn)))\n",
        "print('Training MAE: ',  mean_absolute_error(Y_train, pred_rf_trn))\n",
        "print('Training R2: ',  r2_score(Y_train, pred_rf_trn))"
      ]
    },
    {
      "cell_type": "markdown",
      "metadata": {
        "id": "UiqXAiwD4i6I"
      },
      "source": [
        "##HYperparameter "
      ]
    },
    {
      "cell_type": "code",
      "execution_count": 416,
      "metadata": {
        "colab": {
          "base_uri": "https://localhost:8080/"
        },
        "id": "eg36WI_n6P8_",
        "outputId": "88f931c6-695a-4048-8ef0-a5d7cfbe0277"
      },
      "outputs": [
        {
          "output_type": "stream",
          "name": "stdout",
          "text": [
            "{'max_depth': [1,\n",
            "               2,\n",
            "               3,\n",
            "               4,\n",
            "               5,\n",
            "               6,\n",
            "               7,\n",
            "               8,\n",
            "               9,\n",
            "               10,\n",
            "               11,\n",
            "               12,\n",
            "               13,\n",
            "               14,\n",
            "               15,\n",
            "               16,\n",
            "               17,\n",
            "               18,\n",
            "               19,\n",
            "               20,\n",
            "               21,\n",
            "               22,\n",
            "               23,\n",
            "               24,\n",
            "               25,\n",
            "               26,\n",
            "               27,\n",
            "               28,\n",
            "               29,\n",
            "               30,\n",
            "               31,\n",
            "               32,\n",
            "               33,\n",
            "               34,\n",
            "               35,\n",
            "               36,\n",
            "               37,\n",
            "               38,\n",
            "               39,\n",
            "               40,\n",
            "               41,\n",
            "               42,\n",
            "               43,\n",
            "               44,\n",
            "               45,\n",
            "               46,\n",
            "               47,\n",
            "               48,\n",
            "               49,\n",
            "               50,\n",
            "               51,\n",
            "               52,\n",
            "               53,\n",
            "               54,\n",
            "               55,\n",
            "               56,\n",
            "               57,\n",
            "               58,\n",
            "               59,\n",
            "               60,\n",
            "               61,\n",
            "               62,\n",
            "               63,\n",
            "               64,\n",
            "               65,\n",
            "               66,\n",
            "               67,\n",
            "               68,\n",
            "               69,\n",
            "               70,\n",
            "               71,\n",
            "               72,\n",
            "               73,\n",
            "               74,\n",
            "               75,\n",
            "               76,\n",
            "               77,\n",
            "               78,\n",
            "               79,\n",
            "               80,\n",
            "               81,\n",
            "               82,\n",
            "               83,\n",
            "               84,\n",
            "               85,\n",
            "               86,\n",
            "               87,\n",
            "               88,\n",
            "               89,\n",
            "               90,\n",
            "               91,\n",
            "               92,\n",
            "               93,\n",
            "               94,\n",
            "               95,\n",
            "               96,\n",
            "               97,\n",
            "               98,\n",
            "               99,\n",
            "               100,\n",
            "               101,\n",
            "               102,\n",
            "               103,\n",
            "               104,\n",
            "               105,\n",
            "               106,\n",
            "               107,\n",
            "               108,\n",
            "               109,\n",
            "               110,\n",
            "               111,\n",
            "               112,\n",
            "               113,\n",
            "               114,\n",
            "               115,\n",
            "               116,\n",
            "               117,\n",
            "               118,\n",
            "               119,\n",
            "               120,\n",
            "               121,\n",
            "               122,\n",
            "               123,\n",
            "               124,\n",
            "               125,\n",
            "               126,\n",
            "               127,\n",
            "               128,\n",
            "               129,\n",
            "               130,\n",
            "               131,\n",
            "               132,\n",
            "               133,\n",
            "               134,\n",
            "               135,\n",
            "               136,\n",
            "               137,\n",
            "               138,\n",
            "               139,\n",
            "               140,\n",
            "               141,\n",
            "               142,\n",
            "               143,\n",
            "               144,\n",
            "               145,\n",
            "               146,\n",
            "               147,\n",
            "               148,\n",
            "               149,\n",
            "               150,\n",
            "               151,\n",
            "               152,\n",
            "               153,\n",
            "               154,\n",
            "               155,\n",
            "               156,\n",
            "               157,\n",
            "               158,\n",
            "               159,\n",
            "               160,\n",
            "               161,\n",
            "               162,\n",
            "               163,\n",
            "               164,\n",
            "               165,\n",
            "               166,\n",
            "               167,\n",
            "               168,\n",
            "               169,\n",
            "               170,\n",
            "               171,\n",
            "               172,\n",
            "               173,\n",
            "               174,\n",
            "               175,\n",
            "               176,\n",
            "               177,\n",
            "               178,\n",
            "               179,\n",
            "               180,\n",
            "               181,\n",
            "               182,\n",
            "               183,\n",
            "               184,\n",
            "               185,\n",
            "               186,\n",
            "               187,\n",
            "               188,\n",
            "               189,\n",
            "               190,\n",
            "               191,\n",
            "               192,\n",
            "               193,\n",
            "               194,\n",
            "               195,\n",
            "               196,\n",
            "               197,\n",
            "               198,\n",
            "               199,\n",
            "               200,\n",
            "               201,\n",
            "               202,\n",
            "               203,\n",
            "               204,\n",
            "               205,\n",
            "               206,\n",
            "               207,\n",
            "               208,\n",
            "               209,\n",
            "               210,\n",
            "               211,\n",
            "               212,\n",
            "               213,\n",
            "               214,\n",
            "               215,\n",
            "               216,\n",
            "               217,\n",
            "               218,\n",
            "               219,\n",
            "               220,\n",
            "               221,\n",
            "               222,\n",
            "               223,\n",
            "               224,\n",
            "               225,\n",
            "               226,\n",
            "               227,\n",
            "               228,\n",
            "               229,\n",
            "               230,\n",
            "               231,\n",
            "               232,\n",
            "               233,\n",
            "               234,\n",
            "               235,\n",
            "               236,\n",
            "               237,\n",
            "               238,\n",
            "               239,\n",
            "               240,\n",
            "               241,\n",
            "               242,\n",
            "               243,\n",
            "               244,\n",
            "               245,\n",
            "               246,\n",
            "               247,\n",
            "               248,\n",
            "               249,\n",
            "               250,\n",
            "               251,\n",
            "               252,\n",
            "               253,\n",
            "               254,\n",
            "               255,\n",
            "               256,\n",
            "               257,\n",
            "               258,\n",
            "               259,\n",
            "               260,\n",
            "               261,\n",
            "               262,\n",
            "               263,\n",
            "               264,\n",
            "               265,\n",
            "               266,\n",
            "               267,\n",
            "               268,\n",
            "               269,\n",
            "               270,\n",
            "               271,\n",
            "               272,\n",
            "               273,\n",
            "               274,\n",
            "               275,\n",
            "               276,\n",
            "               277,\n",
            "               278,\n",
            "               279,\n",
            "               280,\n",
            "               281,\n",
            "               282,\n",
            "               283,\n",
            "               284,\n",
            "               285,\n",
            "               286,\n",
            "               287,\n",
            "               288,\n",
            "               289,\n",
            "               290,\n",
            "               291,\n",
            "               292,\n",
            "               293,\n",
            "               294,\n",
            "               295,\n",
            "               296,\n",
            "               297,\n",
            "               298,\n",
            "               299,\n",
            "               300,\n",
            "               301,\n",
            "               302,\n",
            "               303,\n",
            "               304,\n",
            "               305,\n",
            "               306,\n",
            "               307,\n",
            "               308,\n",
            "               309,\n",
            "               310,\n",
            "               311,\n",
            "               312,\n",
            "               313,\n",
            "               314,\n",
            "               315,\n",
            "               316,\n",
            "               317,\n",
            "               318,\n",
            "               319,\n",
            "               320,\n",
            "               321,\n",
            "               322,\n",
            "               323,\n",
            "               324,\n",
            "               325,\n",
            "               326,\n",
            "               327,\n",
            "               328,\n",
            "               329,\n",
            "               330,\n",
            "               331,\n",
            "               332,\n",
            "               333,\n",
            "               334,\n",
            "               335,\n",
            "               336,\n",
            "               337,\n",
            "               338,\n",
            "               339,\n",
            "               340,\n",
            "               341,\n",
            "               342,\n",
            "               343,\n",
            "               344,\n",
            "               345,\n",
            "               346,\n",
            "               347,\n",
            "               348,\n",
            "               349,\n",
            "               350,\n",
            "               351,\n",
            "               352,\n",
            "               353,\n",
            "               354,\n",
            "               355,\n",
            "               356,\n",
            "               357,\n",
            "               358,\n",
            "               359,\n",
            "               360,\n",
            "               361,\n",
            "               362,\n",
            "               363,\n",
            "               364,\n",
            "               365,\n",
            "               366,\n",
            "               367,\n",
            "               368,\n",
            "               369,\n",
            "               370,\n",
            "               371,\n",
            "               372,\n",
            "               373,\n",
            "               374,\n",
            "               375,\n",
            "               376,\n",
            "               377,\n",
            "               378,\n",
            "               379,\n",
            "               380,\n",
            "               381,\n",
            "               382,\n",
            "               383,\n",
            "               384,\n",
            "               385,\n",
            "               386,\n",
            "               387,\n",
            "               388,\n",
            "               389,\n",
            "               390,\n",
            "               391,\n",
            "               392,\n",
            "               393,\n",
            "               394,\n",
            "               395,\n",
            "               396,\n",
            "               397,\n",
            "               398,\n",
            "               399,\n",
            "               400,\n",
            "               401,\n",
            "               402,\n",
            "               403,\n",
            "               404,\n",
            "               405,\n",
            "               406,\n",
            "               407,\n",
            "               408,\n",
            "               409,\n",
            "               410,\n",
            "               411,\n",
            "               412,\n",
            "               413,\n",
            "               414,\n",
            "               415,\n",
            "               416,\n",
            "               417,\n",
            "               418,\n",
            "               419,\n",
            "               420,\n",
            "               421,\n",
            "               422,\n",
            "               423,\n",
            "               424,\n",
            "               425,\n",
            "               426,\n",
            "               427,\n",
            "               428,\n",
            "               429,\n",
            "               430,\n",
            "               431,\n",
            "               432,\n",
            "               433,\n",
            "               434,\n",
            "               435,\n",
            "               436,\n",
            "               437,\n",
            "               438,\n",
            "               439,\n",
            "               440,\n",
            "               441,\n",
            "               442,\n",
            "               443,\n",
            "               444,\n",
            "               445,\n",
            "               446,\n",
            "               447,\n",
            "               448,\n",
            "               449,\n",
            "               450,\n",
            "               451,\n",
            "               452,\n",
            "               453,\n",
            "               454,\n",
            "               455,\n",
            "               456,\n",
            "               457,\n",
            "               458,\n",
            "               459,\n",
            "               460,\n",
            "               461,\n",
            "               462,\n",
            "               463,\n",
            "               464,\n",
            "               465,\n",
            "               466,\n",
            "               467,\n",
            "               468,\n",
            "               469,\n",
            "               470,\n",
            "               471,\n",
            "               472,\n",
            "               473,\n",
            "               474,\n",
            "               475,\n",
            "               476,\n",
            "               477,\n",
            "               478,\n",
            "               479,\n",
            "               480,\n",
            "               481,\n",
            "               482,\n",
            "               483,\n",
            "               484,\n",
            "               485,\n",
            "               486,\n",
            "               487,\n",
            "               488,\n",
            "               489,\n",
            "               490,\n",
            "               491,\n",
            "               492,\n",
            "               493,\n",
            "               494,\n",
            "               495,\n",
            "               496,\n",
            "               497,\n",
            "               498,\n",
            "               499,\n",
            "               500,\n",
            "               501,\n",
            "               502,\n",
            "               503,\n",
            "               504,\n",
            "               505,\n",
            "               506,\n",
            "               507,\n",
            "               508,\n",
            "               509,\n",
            "               510,\n",
            "               511,\n",
            "               512,\n",
            "               513,\n",
            "               514,\n",
            "               515,\n",
            "               516,\n",
            "               517,\n",
            "               518,\n",
            "               519,\n",
            "               520,\n",
            "               521,\n",
            "               522,\n",
            "               523,\n",
            "               524,\n",
            "               525,\n",
            "               526,\n",
            "               527,\n",
            "               528,\n",
            "               529,\n",
            "               530,\n",
            "               531,\n",
            "               532,\n",
            "               533,\n",
            "               534,\n",
            "               535,\n",
            "               536,\n",
            "               537,\n",
            "               538,\n",
            "               539,\n",
            "               540,\n",
            "               541,\n",
            "               542,\n",
            "               543,\n",
            "               544,\n",
            "               545,\n",
            "               546,\n",
            "               547,\n",
            "               548,\n",
            "               549,\n",
            "               550,\n",
            "               551,\n",
            "               552,\n",
            "               553,\n",
            "               554,\n",
            "               555,\n",
            "               556,\n",
            "               557,\n",
            "               558,\n",
            "               559,\n",
            "               560,\n",
            "               561,\n",
            "               562,\n",
            "               563,\n",
            "               564,\n",
            "               565,\n",
            "               566,\n",
            "               567,\n",
            "               568,\n",
            "               569,\n",
            "               570,\n",
            "               571,\n",
            "               572,\n",
            "               573,\n",
            "               574,\n",
            "               575,\n",
            "               576,\n",
            "               577,\n",
            "               578,\n",
            "               579,\n",
            "               580,\n",
            "               581,\n",
            "               582,\n",
            "               583,\n",
            "               584,\n",
            "               585,\n",
            "               586,\n",
            "               587,\n",
            "               588,\n",
            "               589,\n",
            "               590,\n",
            "               591,\n",
            "               592,\n",
            "               593,\n",
            "               594,\n",
            "               595,\n",
            "               596,\n",
            "               597,\n",
            "               598,\n",
            "               599,\n",
            "               600],\n",
            " 'max_features': ['auto', 'sqrt'],\n",
            " 'min_samples_split': [2, 10],\n",
            " 'n_estimators': [1,\n",
            "                  2,\n",
            "                  3,\n",
            "                  4,\n",
            "                  5,\n",
            "                  6,\n",
            "                  7,\n",
            "                  8,\n",
            "                  9,\n",
            "                  10,\n",
            "                  11,\n",
            "                  12,\n",
            "                  13,\n",
            "                  14,\n",
            "                  15,\n",
            "                  16,\n",
            "                  17,\n",
            "                  18,\n",
            "                  19,\n",
            "                  20,\n",
            "                  21,\n",
            "                  22,\n",
            "                  23,\n",
            "                  24,\n",
            "                  25,\n",
            "                  26,\n",
            "                  27,\n",
            "                  28,\n",
            "                  29,\n",
            "                  30,\n",
            "                  31,\n",
            "                  32,\n",
            "                  33,\n",
            "                  34,\n",
            "                  35,\n",
            "                  36,\n",
            "                  37,\n",
            "                  38,\n",
            "                  39,\n",
            "                  40,\n",
            "                  41,\n",
            "                  42,\n",
            "                  43,\n",
            "                  44,\n",
            "                  45,\n",
            "                  46,\n",
            "                  47,\n",
            "                  48,\n",
            "                  49,\n",
            "                  50,\n",
            "                  51,\n",
            "                  52,\n",
            "                  53,\n",
            "                  54,\n",
            "                  55,\n",
            "                  56,\n",
            "                  57,\n",
            "                  58,\n",
            "                  59,\n",
            "                  60,\n",
            "                  61,\n",
            "                  62,\n",
            "                  63,\n",
            "                  64,\n",
            "                  65,\n",
            "                  66,\n",
            "                  67,\n",
            "                  68,\n",
            "                  69,\n",
            "                  70,\n",
            "                  71,\n",
            "                  72,\n",
            "                  73,\n",
            "                  74,\n",
            "                  75,\n",
            "                  76,\n",
            "                  77,\n",
            "                  78,\n",
            "                  79,\n",
            "                  80,\n",
            "                  81,\n",
            "                  82,\n",
            "                  83,\n",
            "                  84,\n",
            "                  85,\n",
            "                  86,\n",
            "                  87,\n",
            "                  88,\n",
            "                  89,\n",
            "                  90,\n",
            "                  91,\n",
            "                  92,\n",
            "                  93,\n",
            "                  94,\n",
            "                  95,\n",
            "                  96,\n",
            "                  97,\n",
            "                  98,\n",
            "                  99,\n",
            "                  100,\n",
            "                  101,\n",
            "                  102,\n",
            "                  103,\n",
            "                  104,\n",
            "                  105,\n",
            "                  106,\n",
            "                  107,\n",
            "                  108,\n",
            "                  109,\n",
            "                  110,\n",
            "                  111,\n",
            "                  112,\n",
            "                  113,\n",
            "                  114,\n",
            "                  115,\n",
            "                  116,\n",
            "                  117,\n",
            "                  118,\n",
            "                  119,\n",
            "                  120,\n",
            "                  121,\n",
            "                  122,\n",
            "                  123,\n",
            "                  124,\n",
            "                  125,\n",
            "                  126,\n",
            "                  127,\n",
            "                  128,\n",
            "                  129,\n",
            "                  130,\n",
            "                  131,\n",
            "                  132,\n",
            "                  133,\n",
            "                  134,\n",
            "                  135,\n",
            "                  136,\n",
            "                  137,\n",
            "                  138,\n",
            "                  139,\n",
            "                  140,\n",
            "                  141,\n",
            "                  142,\n",
            "                  143,\n",
            "                  144,\n",
            "                  145,\n",
            "                  146,\n",
            "                  147,\n",
            "                  148,\n",
            "                  149,\n",
            "                  150,\n",
            "                  151,\n",
            "                  152,\n",
            "                  153,\n",
            "                  154,\n",
            "                  155,\n",
            "                  156,\n",
            "                  157,\n",
            "                  158,\n",
            "                  159,\n",
            "                  160,\n",
            "                  161,\n",
            "                  162,\n",
            "                  163,\n",
            "                  164,\n",
            "                  165,\n",
            "                  166,\n",
            "                  167,\n",
            "                  168,\n",
            "                  169,\n",
            "                  170,\n",
            "                  171,\n",
            "                  172,\n",
            "                  173,\n",
            "                  174,\n",
            "                  175,\n",
            "                  176,\n",
            "                  177,\n",
            "                  178,\n",
            "                  179,\n",
            "                  180,\n",
            "                  181,\n",
            "                  182,\n",
            "                  183,\n",
            "                  184,\n",
            "                  185,\n",
            "                  186,\n",
            "                  187,\n",
            "                  188,\n",
            "                  189,\n",
            "                  190,\n",
            "                  191,\n",
            "                  192,\n",
            "                  193,\n",
            "                  194,\n",
            "                  195,\n",
            "                  196,\n",
            "                  197,\n",
            "                  198,\n",
            "                  199,\n",
            "                  200,\n",
            "                  201,\n",
            "                  202,\n",
            "                  203,\n",
            "                  204,\n",
            "                  205,\n",
            "                  206,\n",
            "                  207,\n",
            "                  208,\n",
            "                  209,\n",
            "                  210,\n",
            "                  211,\n",
            "                  212,\n",
            "                  213,\n",
            "                  214,\n",
            "                  215,\n",
            "                  216,\n",
            "                  217,\n",
            "                  218,\n",
            "                  219,\n",
            "                  220,\n",
            "                  221,\n",
            "                  222,\n",
            "                  223,\n",
            "                  224,\n",
            "                  225,\n",
            "                  226,\n",
            "                  227,\n",
            "                  228,\n",
            "                  229,\n",
            "                  230,\n",
            "                  231,\n",
            "                  232,\n",
            "                  233,\n",
            "                  234,\n",
            "                  235,\n",
            "                  236,\n",
            "                  237,\n",
            "                  238,\n",
            "                  239,\n",
            "                  240,\n",
            "                  241,\n",
            "                  242,\n",
            "                  243,\n",
            "                  244,\n",
            "                  245,\n",
            "                  246,\n",
            "                  247,\n",
            "                  248,\n",
            "                  249,\n",
            "                  250,\n",
            "                  251,\n",
            "                  252,\n",
            "                  253,\n",
            "                  254,\n",
            "                  255,\n",
            "                  256,\n",
            "                  257,\n",
            "                  258,\n",
            "                  259,\n",
            "                  260,\n",
            "                  261,\n",
            "                  262,\n",
            "                  263,\n",
            "                  264,\n",
            "                  265,\n",
            "                  266,\n",
            "                  267,\n",
            "                  268,\n",
            "                  269,\n",
            "                  270,\n",
            "                  271,\n",
            "                  272,\n",
            "                  273,\n",
            "                  274,\n",
            "                  275,\n",
            "                  276,\n",
            "                  277,\n",
            "                  278,\n",
            "                  279,\n",
            "                  280,\n",
            "                  281,\n",
            "                  282,\n",
            "                  283,\n",
            "                  284,\n",
            "                  285,\n",
            "                  286,\n",
            "                  287,\n",
            "                  288,\n",
            "                  289,\n",
            "                  290,\n",
            "                  291,\n",
            "                  292,\n",
            "                  293,\n",
            "                  294,\n",
            "                  295,\n",
            "                  296,\n",
            "                  297,\n",
            "                  298,\n",
            "                  299,\n",
            "                  300,\n",
            "                  301,\n",
            "                  302,\n",
            "                  303,\n",
            "                  304,\n",
            "                  305,\n",
            "                  306,\n",
            "                  307,\n",
            "                  308,\n",
            "                  309,\n",
            "                  310,\n",
            "                  311,\n",
            "                  312,\n",
            "                  313,\n",
            "                  314,\n",
            "                  315,\n",
            "                  316,\n",
            "                  317,\n",
            "                  318,\n",
            "                  319,\n",
            "                  320,\n",
            "                  321,\n",
            "                  322,\n",
            "                  323,\n",
            "                  324,\n",
            "                  325,\n",
            "                  326,\n",
            "                  327,\n",
            "                  328,\n",
            "                  329,\n",
            "                  330,\n",
            "                  331,\n",
            "                  332,\n",
            "                  333,\n",
            "                  334,\n",
            "                  335,\n",
            "                  336,\n",
            "                  337,\n",
            "                  338,\n",
            "                  339,\n",
            "                  340,\n",
            "                  341,\n",
            "                  342,\n",
            "                  343,\n",
            "                  344,\n",
            "                  345,\n",
            "                  346,\n",
            "                  347,\n",
            "                  348,\n",
            "                  349,\n",
            "                  350,\n",
            "                  351,\n",
            "                  352,\n",
            "                  353,\n",
            "                  354,\n",
            "                  355,\n",
            "                  356,\n",
            "                  357,\n",
            "                  358,\n",
            "                  359,\n",
            "                  360,\n",
            "                  361,\n",
            "                  362,\n",
            "                  363,\n",
            "                  364,\n",
            "                  365,\n",
            "                  366,\n",
            "                  367,\n",
            "                  368,\n",
            "                  369,\n",
            "                  370,\n",
            "                  371,\n",
            "                  372,\n",
            "                  373,\n",
            "                  374,\n",
            "                  375,\n",
            "                  376,\n",
            "                  377,\n",
            "                  378,\n",
            "                  379,\n",
            "                  380,\n",
            "                  381,\n",
            "                  382,\n",
            "                  383,\n",
            "                  384,\n",
            "                  385,\n",
            "                  386,\n",
            "                  387,\n",
            "                  388,\n",
            "                  389,\n",
            "                  390,\n",
            "                  391,\n",
            "                  392,\n",
            "                  393,\n",
            "                  394,\n",
            "                  395,\n",
            "                  396,\n",
            "                  397,\n",
            "                  398,\n",
            "                  399,\n",
            "                  400,\n",
            "                  401,\n",
            "                  402,\n",
            "                  403,\n",
            "                  404,\n",
            "                  405,\n",
            "                  406,\n",
            "                  407,\n",
            "                  408,\n",
            "                  409,\n",
            "                  410,\n",
            "                  411,\n",
            "                  412,\n",
            "                  413,\n",
            "                  414,\n",
            "                  415,\n",
            "                  416,\n",
            "                  417,\n",
            "                  418,\n",
            "                  419,\n",
            "                  420,\n",
            "                  421,\n",
            "                  422,\n",
            "                  423,\n",
            "                  424,\n",
            "                  425,\n",
            "                  426,\n",
            "                  427,\n",
            "                  428,\n",
            "                  429,\n",
            "                  430,\n",
            "                  431,\n",
            "                  432,\n",
            "                  433,\n",
            "                  434,\n",
            "                  435,\n",
            "                  436,\n",
            "                  437,\n",
            "                  438,\n",
            "                  439,\n",
            "                  440,\n",
            "                  441,\n",
            "                  442,\n",
            "                  443,\n",
            "                  444,\n",
            "                  445,\n",
            "                  446,\n",
            "                  447,\n",
            "                  448,\n",
            "                  449,\n",
            "                  450,\n",
            "                  451,\n",
            "                  452,\n",
            "                  453,\n",
            "                  454,\n",
            "                  455,\n",
            "                  456,\n",
            "                  457,\n",
            "                  458,\n",
            "                  459,\n",
            "                  460,\n",
            "                  461,\n",
            "                  462,\n",
            "                  463,\n",
            "                  464,\n",
            "                  465,\n",
            "                  466,\n",
            "                  467,\n",
            "                  468,\n",
            "                  469,\n",
            "                  470,\n",
            "                  471,\n",
            "                  472,\n",
            "                  473,\n",
            "                  474,\n",
            "                  475,\n",
            "                  476,\n",
            "                  477,\n",
            "                  478,\n",
            "                  479,\n",
            "                  480,\n",
            "                  481,\n",
            "                  482,\n",
            "                  483,\n",
            "                  484,\n",
            "                  485,\n",
            "                  486,\n",
            "                  487,\n",
            "                  488,\n",
            "                  489,\n",
            "                  490,\n",
            "                  491,\n",
            "                  492,\n",
            "                  493,\n",
            "                  494,\n",
            "                  495,\n",
            "                  496,\n",
            "                  497,\n",
            "                  498,\n",
            "                  499,\n",
            "                  500,\n",
            "                  501,\n",
            "                  502,\n",
            "                  503,\n",
            "                  504,\n",
            "                  505,\n",
            "                  506,\n",
            "                  507,\n",
            "                  508,\n",
            "                  509,\n",
            "                  510,\n",
            "                  511,\n",
            "                  512,\n",
            "                  513,\n",
            "                  514,\n",
            "                  515,\n",
            "                  516,\n",
            "                  517,\n",
            "                  518,\n",
            "                  519,\n",
            "                  520,\n",
            "                  521,\n",
            "                  522,\n",
            "                  523,\n",
            "                  524,\n",
            "                  525,\n",
            "                  526,\n",
            "                  527,\n",
            "                  528,\n",
            "                  529,\n",
            "                  530,\n",
            "                  531,\n",
            "                  532,\n",
            "                  533,\n",
            "                  534,\n",
            "                  535,\n",
            "                  536,\n",
            "                  537,\n",
            "                  538,\n",
            "                  539,\n",
            "                  540,\n",
            "                  541,\n",
            "                  542,\n",
            "                  543,\n",
            "                  544,\n",
            "                  545,\n",
            "                  546,\n",
            "                  547,\n",
            "                  548,\n",
            "                  549,\n",
            "                  550,\n",
            "                  551,\n",
            "                  552,\n",
            "                  553,\n",
            "                  554,\n",
            "                  555,\n",
            "                  556,\n",
            "                  557,\n",
            "                  558,\n",
            "                  559,\n",
            "                  560,\n",
            "                  561,\n",
            "                  562,\n",
            "                  563,\n",
            "                  564,\n",
            "                  565,\n",
            "                  566,\n",
            "                  567,\n",
            "                  568,\n",
            "                  569,\n",
            "                  570,\n",
            "                  571,\n",
            "                  572,\n",
            "                  573,\n",
            "                  574,\n",
            "                  575,\n",
            "                  576,\n",
            "                  577,\n",
            "                  578,\n",
            "                  579,\n",
            "                  580,\n",
            "                  581,\n",
            "                  582,\n",
            "                  583,\n",
            "                  584,\n",
            "                  585,\n",
            "                  586,\n",
            "                  587,\n",
            "                  588,\n",
            "                  589,\n",
            "                  590,\n",
            "                  591,\n",
            "                  592,\n",
            "                  593,\n",
            "                  594,\n",
            "                  595,\n",
            "                  596,\n",
            "                  597,\n",
            "                  598,\n",
            "                  599,\n",
            "                  600,\n",
            "                  601,\n",
            "                  602,\n",
            "                  603,\n",
            "                  604,\n",
            "                  605,\n",
            "                  606,\n",
            "                  607,\n",
            "                  608,\n",
            "                  609,\n",
            "                  610,\n",
            "                  611,\n",
            "                  612,\n",
            "                  613,\n",
            "                  614,\n",
            "                  615,\n",
            "                  616,\n",
            "                  617,\n",
            "                  618,\n",
            "                  619,\n",
            "                  620,\n",
            "                  621,\n",
            "                  622,\n",
            "                  623,\n",
            "                  624,\n",
            "                  625,\n",
            "                  626,\n",
            "                  627,\n",
            "                  628,\n",
            "                  629,\n",
            "                  630,\n",
            "                  631,\n",
            "                  632,\n",
            "                  633,\n",
            "                  634,\n",
            "                  635,\n",
            "                  636,\n",
            "                  637,\n",
            "                  638,\n",
            "                  639,\n",
            "                  640,\n",
            "                  641,\n",
            "                  642,\n",
            "                  643,\n",
            "                  644,\n",
            "                  645,\n",
            "                  646,\n",
            "                  647,\n",
            "                  648,\n",
            "                  649,\n",
            "                  650,\n",
            "                  651,\n",
            "                  652,\n",
            "                  653,\n",
            "                  654,\n",
            "                  655,\n",
            "                  656,\n",
            "                  657,\n",
            "                  658,\n",
            "                  659,\n",
            "                  660,\n",
            "                  661,\n",
            "                  662,\n",
            "                  663,\n",
            "                  664,\n",
            "                  665,\n",
            "                  666,\n",
            "                  667,\n",
            "                  668,\n",
            "                  669,\n",
            "                  670,\n",
            "                  671,\n",
            "                  672,\n",
            "                  673,\n",
            "                  674,\n",
            "                  675,\n",
            "                  676,\n",
            "                  677,\n",
            "                  678,\n",
            "                  679,\n",
            "                  680,\n",
            "                  681,\n",
            "                  682,\n",
            "                  683,\n",
            "                  684,\n",
            "                  685,\n",
            "                  686,\n",
            "                  687,\n",
            "                  688,\n",
            "                  689,\n",
            "                  690,\n",
            "                  691,\n",
            "                  692,\n",
            "                  693,\n",
            "                  694,\n",
            "                  695,\n",
            "                  696,\n",
            "                  697,\n",
            "                  698,\n",
            "                  699,\n",
            "                  700,\n",
            "                  701,\n",
            "                  702,\n",
            "                  703,\n",
            "                  704,\n",
            "                  705,\n",
            "                  706,\n",
            "                  707,\n",
            "                  708,\n",
            "                  709,\n",
            "                  710,\n",
            "                  711,\n",
            "                  712,\n",
            "                  713,\n",
            "                  714,\n",
            "                  715,\n",
            "                  716,\n",
            "                  717,\n",
            "                  718,\n",
            "                  719,\n",
            "                  720,\n",
            "                  721,\n",
            "                  722,\n",
            "                  723,\n",
            "                  724,\n",
            "                  725,\n",
            "                  726,\n",
            "                  727,\n",
            "                  728,\n",
            "                  729,\n",
            "                  730,\n",
            "                  731,\n",
            "                  732,\n",
            "                  733,\n",
            "                  734,\n",
            "                  735,\n",
            "                  736,\n",
            "                  737,\n",
            "                  738,\n",
            "                  739,\n",
            "                  740,\n",
            "                  741,\n",
            "                  742,\n",
            "                  743,\n",
            "                  744,\n",
            "                  745,\n",
            "                  746,\n",
            "                  747,\n",
            "                  748,\n",
            "                  749,\n",
            "                  750,\n",
            "                  751,\n",
            "                  752,\n",
            "                  753,\n",
            "                  754,\n",
            "                  755,\n",
            "                  756,\n",
            "                  757,\n",
            "                  758,\n",
            "                  759,\n",
            "                  760,\n",
            "                  761,\n",
            "                  762,\n",
            "                  763,\n",
            "                  764,\n",
            "                  765,\n",
            "                  766,\n",
            "                  767,\n",
            "                  768,\n",
            "                  769,\n",
            "                  770,\n",
            "                  771,\n",
            "                  772,\n",
            "                  773,\n",
            "                  774,\n",
            "                  775,\n",
            "                  776,\n",
            "                  777,\n",
            "                  778,\n",
            "                  779,\n",
            "                  780,\n",
            "                  781,\n",
            "                  782,\n",
            "                  783,\n",
            "                  784,\n",
            "                  785,\n",
            "                  786,\n",
            "                  787,\n",
            "                  788,\n",
            "                  789,\n",
            "                  790,\n",
            "                  791,\n",
            "                  792,\n",
            "                  793,\n",
            "                  794,\n",
            "                  795,\n",
            "                  796,\n",
            "                  797,\n",
            "                  798,\n",
            "                  799,\n",
            "                  800,\n",
            "                  801,\n",
            "                  802,\n",
            "                  803,\n",
            "                  804,\n",
            "                  805,\n",
            "                  806,\n",
            "                  807,\n",
            "                  808,\n",
            "                  809,\n",
            "                  810,\n",
            "                  811,\n",
            "                  812,\n",
            "                  813,\n",
            "                  814,\n",
            "                  815,\n",
            "                  816,\n",
            "                  817,\n",
            "                  818,\n",
            "                  819,\n",
            "                  820,\n",
            "                  821,\n",
            "                  822,\n",
            "                  823,\n",
            "                  824,\n",
            "                  825,\n",
            "                  826,\n",
            "                  827,\n",
            "                  828,\n",
            "                  829,\n",
            "                  830,\n",
            "                  831,\n",
            "                  832,\n",
            "                  833,\n",
            "                  834,\n",
            "                  835,\n",
            "                  836,\n",
            "                  837,\n",
            "                  838,\n",
            "                  839,\n",
            "                  840,\n",
            "                  841,\n",
            "                  842,\n",
            "                  843,\n",
            "                  844,\n",
            "                  845,\n",
            "                  846,\n",
            "                  847,\n",
            "                  848,\n",
            "                  849,\n",
            "                  850,\n",
            "                  851,\n",
            "                  852,\n",
            "                  853,\n",
            "                  854,\n",
            "                  855,\n",
            "                  856,\n",
            "                  857,\n",
            "                  858,\n",
            "                  859,\n",
            "                  860,\n",
            "                  861,\n",
            "                  862,\n",
            "                  863,\n",
            "                  864,\n",
            "                  865,\n",
            "                  866,\n",
            "                  867,\n",
            "                  868,\n",
            "                  869,\n",
            "                  870,\n",
            "                  871,\n",
            "                  872,\n",
            "                  873,\n",
            "                  874,\n",
            "                  875,\n",
            "                  876,\n",
            "                  877,\n",
            "                  878,\n",
            "                  879,\n",
            "                  880,\n",
            "                  881,\n",
            "                  882,\n",
            "                  883,\n",
            "                  884,\n",
            "                  885,\n",
            "                  886,\n",
            "                  887,\n",
            "                  888,\n",
            "                  889,\n",
            "                  890,\n",
            "                  891,\n",
            "                  892,\n",
            "                  893,\n",
            "                  894,\n",
            "                  895,\n",
            "                  896,\n",
            "                  897,\n",
            "                  898,\n",
            "                  899,\n",
            "                  900,\n",
            "                  901,\n",
            "                  902,\n",
            "                  903,\n",
            "                  904,\n",
            "                  905,\n",
            "                  906,\n",
            "                  907,\n",
            "                  908,\n",
            "                  909,\n",
            "                  910,\n",
            "                  911,\n",
            "                  912,\n",
            "                  913,\n",
            "                  914,\n",
            "                  915,\n",
            "                  916,\n",
            "                  917,\n",
            "                  918,\n",
            "                  919,\n",
            "                  920,\n",
            "                  921,\n",
            "                  922,\n",
            "                  923,\n",
            "                  924,\n",
            "                  925,\n",
            "                  926,\n",
            "                  927,\n",
            "                  928,\n",
            "                  929,\n",
            "                  930,\n",
            "                  931,\n",
            "                  932,\n",
            "                  933,\n",
            "                  934,\n",
            "                  935,\n",
            "                  936,\n",
            "                  937,\n",
            "                  938,\n",
            "                  939,\n",
            "                  940,\n",
            "                  941,\n",
            "                  942,\n",
            "                  943,\n",
            "                  944,\n",
            "                  945,\n",
            "                  946,\n",
            "                  947,\n",
            "                  948,\n",
            "                  949,\n",
            "                  950,\n",
            "                  951,\n",
            "                  952,\n",
            "                  953,\n",
            "                  954,\n",
            "                  955,\n",
            "                  956,\n",
            "                  957,\n",
            "                  958,\n",
            "                  959,\n",
            "                  960,\n",
            "                  961,\n",
            "                  962,\n",
            "                  963,\n",
            "                  964,\n",
            "                  965,\n",
            "                  966,\n",
            "                  967,\n",
            "                  968,\n",
            "                  969,\n",
            "                  970,\n",
            "                  971,\n",
            "                  972,\n",
            "                  973,\n",
            "                  974,\n",
            "                  975,\n",
            "                  976,\n",
            "                  977,\n",
            "                  978,\n",
            "                  979,\n",
            "                  980,\n",
            "                  981,\n",
            "                  982,\n",
            "                  983,\n",
            "                  984,\n",
            "                  985,\n",
            "                  986,\n",
            "                  987,\n",
            "                  988,\n",
            "                  989,\n",
            "                  990,\n",
            "                  991,\n",
            "                  992,\n",
            "                  993,\n",
            "                  994,\n",
            "                  995,\n",
            "                  996,\n",
            "                  997,\n",
            "                  998,\n",
            "                  999,\n",
            "                  1000]}\n"
          ]
        }
      ],
      "source": [
        "from sklearn.model_selection import RandomizedSearchCV\n",
        "from pprint import pprint\n",
        "\n",
        "# jumlah pohon random forest\n",
        "n_estimators = [int(x) for x in np.linspace(start = 1, stop = 1000, num = 1000)]\n",
        "# jumlah feature\n",
        "max_features = ['auto', 'sqrt']\n",
        "# jumlah maksimal dept\n",
        "max_depth = [int(x) for x in np.linspace(1, 600, num = 600)]\n",
        "# jumlah minimal split\n",
        "min_samples_split = [2, 10]\n",
        "\n",
        "# random grid\n",
        "random_grid = {'n_estimators': n_estimators,\n",
        "               'max_features': max_features,\n",
        "               'max_depth': max_depth,\n",
        "               'min_samples_split': min_samples_split}\n",
        "\n",
        "pprint(random_grid)"
      ]
    },
    {
      "cell_type": "code",
      "execution_count": 417,
      "metadata": {
        "colab": {
          "base_uri": "https://localhost:8080/"
        },
        "id": "1ejP8_u463Pc",
        "outputId": "cbb21427-98f4-49cf-8111-eb66921f73a5"
      },
      "outputs": [
        {
          "output_type": "stream",
          "name": "stdout",
          "text": [
            "Fitting 10 folds for each of 10 candidates, totalling 100 fits\n"
          ]
        },
        {
          "output_type": "stream",
          "name": "stderr",
          "text": [
            "[Parallel(n_jobs=-1)]: Using backend LokyBackend with 2 concurrent workers.\n",
            "[Parallel(n_jobs=-1)]: Done  37 tasks      | elapsed:   36.1s\n",
            "[Parallel(n_jobs=-1)]: Done 100 out of 100 | elapsed:   58.9s finished\n"
          ]
        },
        {
          "output_type": "execute_result",
          "data": {
            "text/plain": [
              "RandomizedSearchCV(cv=10, estimator=RandomForestRegressor(random_state=42),\n",
              "                   n_jobs=-1,\n",
              "                   param_distributions={'max_depth': [1, 2, 3, 4, 5, 6, 7, 8, 9,\n",
              "                                                      10, 11, 12, 13, 14, 15,\n",
              "                                                      16, 17, 18, 19, 20, 21,\n",
              "                                                      22, 23, 24, 25, 26, 27,\n",
              "                                                      28, 29, 30, ...],\n",
              "                                        'max_features': ['auto', 'sqrt'],\n",
              "                                        'min_samples_split': [2, 10],\n",
              "                                        'n_estimators': [1, 2, 3, 4, 5, 6, 7, 8,\n",
              "                                                         9, 10, 11, 12, 13, 14,\n",
              "                                                         15, 16, 17, 18, 19, 20,\n",
              "                                                         21, 22, 23, 24, 25, 26,\n",
              "                                                         27, 28, 29, 30, ...]},\n",
              "                   random_state=42, scoring='neg_mean_squared_error',\n",
              "                   verbose=2)"
            ]
          },
          "metadata": {},
          "execution_count": 417
        }
      ],
      "source": [
        "#3 vold validation\n",
        "# gunakan semua kombinasi untuk cari yang terbaik\n",
        "rf_random = RandomizedSearchCV(estimator = model_rf, param_distributions = random_grid, n_iter = 10, cv = 10, verbose=2, random_state=42, n_jobs = -1, scoring='neg_mean_squared_error')\n",
        "# fit model\n",
        "rf_random.fit(X_train, Y_train)"
      ]
    },
    {
      "cell_type": "code",
      "execution_count": 418,
      "metadata": {
        "id": "J6w2East-atT",
        "colab": {
          "base_uri": "https://localhost:8080/"
        },
        "outputId": "3746bc1f-b3b3-48cf-ea50-bc0680b74348"
      },
      "outputs": [
        {
          "output_type": "stream",
          "name": "stdout",
          "text": [
            "1025.984715574915 {'n_estimators': 111, 'min_samples_split': 10, 'max_features': 'sqrt', 'max_depth': 555}\n",
            "1000.5789755480278 {'n_estimators': 85, 'min_samples_split': 10, 'max_features': 'auto', 'max_depth': 558}\n",
            "1004.0659639174336 {'n_estimators': 331, 'min_samples_split': 2, 'max_features': 'auto', 'max_depth': 590}\n",
            "1005.9182058364947 {'n_estimators': 744, 'min_samples_split': 2, 'max_features': 'auto', 'max_depth': 424}\n",
            "1012.3051967798244 {'n_estimators': 269, 'min_samples_split': 2, 'max_features': 'sqrt', 'max_depth': 28}\n",
            "1003.9042900144706 {'n_estimators': 181, 'min_samples_split': 2, 'max_features': 'auto', 'max_depth': 184}\n",
            "1014.994776352377 {'n_estimators': 490, 'min_samples_split': 2, 'max_features': 'sqrt', 'max_depth': 559}\n",
            "1101.030174364804 {'n_estimators': 7, 'min_samples_split': 2, 'max_features': 'sqrt', 'max_depth': 393}\n",
            "1023.3983697120176 {'n_estimators': 275, 'min_samples_split': 10, 'max_features': 'sqrt', 'max_depth': 501}\n",
            "1011.6907119902771 {'n_estimators': 75, 'min_samples_split': 2, 'max_features': 'auto', 'max_depth': 285}\n"
          ]
        }
      ],
      "source": [
        "#Perubahan rmse untuk tiap parameter\n",
        "cvres2 = rf_random.cv_results_\n",
        "for mean_score, params in zip(cvres2[\"mean_test_score\"], cvres2[\"params\"]):\n",
        "    print(np.sqrt(-mean_score), params)"
      ]
    },
    {
      "cell_type": "code",
      "execution_count": 419,
      "metadata": {
        "id": "Agu_UPDNAjG3",
        "colab": {
          "base_uri": "https://localhost:8080/"
        },
        "outputId": "00ace9d6-6009-4f30-f80c-53a2d2b63e45"
      },
      "outputs": [
        {
          "output_type": "execute_result",
          "data": {
            "text/plain": [
              "RandomForestRegressor(max_depth=558, min_samples_split=10, n_estimators=85,\n",
              "                      random_state=42)"
            ]
          },
          "metadata": {},
          "execution_count": 419
        }
      ],
      "source": [
        "# best random model \n",
        "rf_random.best_estimator_"
      ]
    },
    {
      "cell_type": "code",
      "execution_count": 420,
      "metadata": {
        "id": "gQ0ZIQDbAsIQ",
        "colab": {
          "base_uri": "https://localhost:8080/"
        },
        "outputId": "dffe9b47-1a37-48ff-b0fb-fc82ee920e98"
      },
      "outputs": [
        {
          "output_type": "execute_result",
          "data": {
            "text/plain": [
              "{'n_estimators': 85,\n",
              " 'min_samples_split': 10,\n",
              " 'max_features': 'auto',\n",
              " 'max_depth': 558}"
            ]
          },
          "metadata": {},
          "execution_count": 420
        }
      ],
      "source": [
        "# best combination of parameters of random search\n",
        "rf_random.best_params_"
      ]
    },
    {
      "cell_type": "markdown",
      "metadata": {
        "id": "m76LesUFqxIm"
      },
      "source": [
        "Data train"
      ]
    },
    {
      "cell_type": "code",
      "execution_count": 421,
      "metadata": {
        "id": "XGg9QTi5BDrA",
        "colab": {
          "base_uri": "https://localhost:8080/"
        },
        "outputId": "7c76176b-0b66-42ca-ceeb-370a2252643e"
      },
      "outputs": [
        {
          "output_type": "stream",
          "name": "stdout",
          "text": [
            "The best model from the randomized search has an accuracy of 83.91 %\n"
          ]
        }
      ],
      "source": [
        "# performa mape\n",
        "random_best_train= rf_random.best_estimator_.predict(X_train)\n",
        "errors = abs(random_best_train - Y_train)\n",
        "# hitung nilai mape\n",
        "mape = np.mean(100 * (errors / Y_train))\n",
        "# tampilkan akurasi\n",
        "accuracy = 100 - mape    \n",
        "#print hasil\n",
        "print('The best model from the randomized search has an accuracy of', round(accuracy, 2),'%')"
      ]
    },
    {
      "cell_type": "code",
      "execution_count": 422,
      "metadata": {
        "id": "NpPSBe1ho2ct",
        "colab": {
          "base_uri": "https://localhost:8080/"
        },
        "outputId": "7e042792-7251-4d38-88f7-48a30a3a2c27"
      },
      "outputs": [
        {
          "output_type": "stream",
          "name": "stdout",
          "text": [
            "Training RMSE:  616.9223027265632\n",
            "Training MAE:  440.08578585980854\n",
            "Training R2:  0.8965883348123671\n"
          ]
        }
      ],
      "source": [
        "#Data train\n",
        "print('Training RMSE: ', np.sqrt(mean_squared_error(Y_train, random_best_train)))\n",
        "print('Training MAE: ',  mean_absolute_error(Y_train, random_best_train))\n",
        "print('Training R2: ',  r2_score(Y_train, random_best_train))"
      ]
    },
    {
      "cell_type": "markdown",
      "metadata": {
        "id": "JeGG5m6boPsi"
      },
      "source": [
        "data test"
      ]
    },
    {
      "cell_type": "code",
      "execution_count": 423,
      "metadata": {
        "id": "wafvGmWgoPIH",
        "colab": {
          "base_uri": "https://localhost:8080/"
        },
        "outputId": "ba53a96d-612d-4a97-c1dc-ae70149f3919"
      },
      "outputs": [
        {
          "output_type": "stream",
          "name": "stdout",
          "text": [
            "The best model from the randomized search has an accuracy of -45.95 %\n"
          ]
        }
      ],
      "source": [
        "# Performa mape\n",
        "random_best_test= rf_random.best_estimator_.predict(X_test)\n",
        "errors = abs(random_best_test - Y_test)\n",
        "# Hitung nilai mape\n",
        "mape = np.mean(100 * (errors / Y_test))\n",
        "# hitung dan tampilkan akurasi\n",
        "accuracy = 100 - mape    \n",
        "#print result\n",
        "print('The best model from the randomized search has an accuracy of', round(accuracy, 2),'%')"
      ]
    },
    {
      "cell_type": "code",
      "execution_count": 424,
      "metadata": {
        "id": "nIbfv0VEqbpi",
        "colab": {
          "base_uri": "https://localhost:8080/"
        },
        "outputId": "64a320a6-6b6a-46eb-c126-6e18dca8f94b"
      },
      "outputs": [
        {
          "output_type": "stream",
          "name": "stdout",
          "text": [
            "Testing RMSE:  989.9369691017802\n",
            "Testing MAE:  717.9719490441045\n",
            "Testing R2:  0.7442052982134435\n"
          ]
        }
      ],
      "source": [
        "print('Testing RMSE: ', np.sqrt(mean_squared_error(Y_test, random_best_test)))\n",
        "print('Testing MAE: ',  mean_absolute_error(Y_test, random_best_test))\n",
        "print('Testing R2: ',  r2_score(Y_test, random_best_test))"
      ]
    },
    {
      "cell_type": "code",
      "source": [
        "random_best_test= rf_random.best_estimator_.predict(X_test)"
      ],
      "metadata": {
        "id": "TpokSdPzIoU3"
      },
      "execution_count": 425,
      "outputs": []
    },
    {
      "cell_type": "code",
      "source": [
        "x_ax = range(len(Y_test))\n",
        "plt.plot(x_ax, Y_test, lw=0.6, color=\"blue\", label=\"original\")\n",
        "plt.plot(x_ax, random_best_test, lw=0.8, color=\"red\", label=\"predicted\")\n",
        "plt.title(\"Rental Bike\")\n",
        "plt.legend()\n",
        "plt.show()"
      ],
      "metadata": {
        "colab": {
          "base_uri": "https://localhost:8080/",
          "height": 284
        },
        "id": "Ygkgvsj9IMaP",
        "outputId": "9f91dbab-897f-4cdb-9d2b-cfdd0b814846"
      },
      "execution_count": 426,
      "outputs": [
        {
          "output_type": "display_data",
          "data": {
            "text/plain": [
              "<Figure size 432x288 with 1 Axes>"
            ],
            "image/png": "[encoded data removed]"
          },
          "metadata": {}
        }
      ]
    },
    {
      "cell_type": "markdown",
      "metadata": {
        "id": "EWGqdvEzncdw"
      },
      "source": [
        "##Lazy predict"
      ]
    },
    {
      "cell_type": "code",
      "execution_count": 427,
      "metadata": {
        "id": "L4iV-whBoKL_",
        "colab": {
          "base_uri": "https://localhost:8080/"
        },
        "outputId": "a5343918-5b27-421f-fa0d-3b926a026439"
      },
      "outputs": [
        {
          "output_type": "stream",
          "name": "stdout",
          "text": [
            "Looking in indexes: https://pypi.org/simple, https://us-python.pkg.dev/colab-wheels/public/simple/\n",
            "Requirement already satisfied: lazypredict in /usr/local/lib/python3.7/dist-packages (0.2.9)\n",
            "Requirement already satisfied: click==7.1.2 in /usr/local/lib/python3.7/dist-packages (from lazypredict) (7.1.2)\n",
            "Requirement already satisfied: pandas==1.0.5 in /usr/local/lib/python3.7/dist-packages (from lazypredict) (1.0.5)\n",
            "Requirement already satisfied: pytest==5.4.3 in /usr/local/lib/python3.7/dist-packages (from lazypredict) (5.4.3)\n",
            "Requirement already satisfied: lightgbm==2.3.1 in /usr/local/lib/python3.7/dist-packages (from lazypredict) (2.3.1)\n",
            "Requirement already satisfied: scipy==1.5.4 in /usr/local/lib/python3.7/dist-packages (from lazypredict) (1.5.4)\n",
            "Requirement already satisfied: xgboost==1.1.1 in /usr/local/lib/python3.7/dist-packages (from lazypredict) (1.1.1)\n",
            "Requirement already satisfied: PyYAML==5.3.1 in /usr/local/lib/python3.7/dist-packages (from lazypredict) (5.3.1)\n",
            "Requirement already satisfied: joblib==1.0.0 in /usr/local/lib/python3.7/dist-packages (from lazypredict) (1.0.0)\n",
            "Requirement already satisfied: tqdm==4.56.0 in /usr/local/lib/python3.7/dist-packages (from lazypredict) (4.56.0)\n",
            "Requirement already satisfied: six==1.15.0 in /usr/local/lib/python3.7/dist-packages (from lazypredict) (1.15.0)\n",
            "Requirement already satisfied: scikit-learn==0.23.1 in /usr/local/lib/python3.7/dist-packages (from lazypredict) (0.23.1)\n",
            "Requirement already satisfied: numpy==1.19.1 in /usr/local/lib/python3.7/dist-packages (from lazypredict) (1.19.1)\n",
            "Requirement already satisfied: python-dateutil>=2.6.1 in /usr/local/lib/python3.7/dist-packages (from pandas==1.0.5->lazypredict) (2.8.2)\n",
            "Requirement already satisfied: pytz>=2017.2 in /usr/local/lib/python3.7/dist-packages (from pandas==1.0.5->lazypredict) (2022.2.1)\n",
            "Requirement already satisfied: packaging in /usr/local/lib/python3.7/dist-packages (from pytest==5.4.3->lazypredict) (21.3)\n",
            "Requirement already satisfied: py>=1.5.0 in /usr/local/lib/python3.7/dist-packages (from pytest==5.4.3->lazypredict) (1.11.0)\n",
            "Requirement already satisfied: attrs>=17.4.0 in /usr/local/lib/python3.7/dist-packages (from pytest==5.4.3->lazypredict) (22.1.0)\n",
            "Requirement already satisfied: importlib-metadata>=0.12 in /usr/local/lib/python3.7/dist-packages (from pytest==5.4.3->lazypredict) (4.12.0)\n",
            "Requirement already satisfied: more-itertools>=4.0.0 in /usr/local/lib/python3.7/dist-packages (from pytest==5.4.3->lazypredict) (8.14.0)\n",
            "Requirement already satisfied: wcwidth in /usr/local/lib/python3.7/dist-packages (from pytest==5.4.3->lazypredict) (0.2.5)\n",
            "Requirement already satisfied: pluggy<1.0,>=0.12 in /usr/local/lib/python3.7/dist-packages (from pytest==5.4.3->lazypredict) (0.13.1)\n",
            "Requirement already satisfied: threadpoolctl>=2.0.0 in /usr/local/lib/python3.7/dist-packages (from scikit-learn==0.23.1->lazypredict) (3.1.0)\n",
            "Requirement already satisfied: typing-extensions>=3.6.4 in /usr/local/lib/python3.7/dist-packages (from importlib-metadata>=0.12->pytest==5.4.3->lazypredict) (4.1.1)\n",
            "Requirement already satisfied: zipp>=0.5 in /usr/local/lib/python3.7/dist-packages (from importlib-metadata>=0.12->pytest==5.4.3->lazypredict) (3.8.1)\n",
            "Requirement already satisfied: pyparsing!=3.0.5,>=2.0.2 in /usr/local/lib/python3.7/dist-packages (from packaging->pytest==5.4.3->lazypredict) (3.0.9)\n"
          ]
        }
      ],
      "source": [
        "!pip install lazypredict"
      ]
    },
    {
      "cell_type": "code",
      "execution_count": 428,
      "metadata": {
        "id": "y_YFhHrznfSQ"
      },
      "outputs": [],
      "source": [
        "from lazypredict.Supervised import LazyRegressor"
      ]
    },
    {
      "cell_type": "code",
      "execution_count": 429,
      "metadata": {
        "id": "MJJJ_erfnhh7",
        "colab": {
          "base_uri": "https://localhost:8080/"
        },
        "outputId": "ff1e70f4-a246-4d71-c5f6-c8f365cdea47"
      },
      "outputs": [
        {
          "output_type": "stream",
          "name": "stderr",
          "text": [
            "100%|██████████| 42/42 [00:03<00:00, 12.16it/s]"
          ]
        },
        {
          "output_type": "stream",
          "name": "stdout",
          "text": [
            "                               Adjusted R-Squared  R-Squared    RMSE  \\\n",
            "Model                                                                  \n",
            "ExtraTreesRegressor                          0.75       0.76  966.72   \n",
            "HistGradientBoostingRegressor                0.74       0.75  970.92   \n",
            "LGBMRegressor                                0.74       0.75  986.94   \n",
            "RandomForestRegressor                        0.73       0.74 1004.86   \n",
            "GradientBoostingRegressor                    0.71       0.72 1036.63   \n",
            "Lars                                         0.68       0.70 1078.52   \n",
            "TransformedTargetRegressor                   0.68       0.70 1078.52   \n",
            "LinearRegression                             0.68       0.70 1078.52   \n",
            "Lasso                                        0.68       0.70 1078.86   \n",
            "Ridge                                        0.68       0.70 1079.00   \n",
            "OrthogonalMatchingPursuitCV                  0.68       0.70 1080.30   \n",
            "BayesianRidge                                0.68       0.70 1080.89   \n",
            "SGDRegressor                                 0.68       0.69 1082.43   \n",
            "LassoLarsIC                                  0.68       0.69 1083.09   \n",
            "RidgeCV                                      0.68       0.69 1083.46   \n",
            "LassoLarsCV                                  0.68       0.69 1084.08   \n",
            "LarsCV                                       0.68       0.69 1084.08   \n",
            "LassoLars                                    0.68       0.69 1084.22   \n",
            "LassoCV                                      0.68       0.69 1084.26   \n",
            "KNeighborsRegressor                          0.68       0.69 1089.62   \n",
            "PoissonRegressor                             0.68       0.69 1091.18   \n",
            "HuberRegressor                               0.68       0.69 1093.53   \n",
            "BaggingRegressor                             0.68       0.69 1093.63   \n",
            "PassiveAggressiveRegressor                   0.66       0.67 1123.24   \n",
            "AdaBoostRegressor                            0.66       0.67 1123.57   \n",
            "XGBRegressor                                 0.64       0.66 1146.04   \n",
            "RANSACRegressor                              0.60       0.61 1215.69   \n",
            "ElasticNet                                   0.58       0.59 1245.91   \n",
            "GammaRegressor                               0.53       0.55 1311.56   \n",
            "TweedieRegressor                             0.48       0.50 1382.69   \n",
            "GeneralizedLinearRegressor                   0.48       0.50 1382.69   \n",
            "ElasticNetCV                                 0.46       0.48 1413.38   \n",
            "DecisionTreeRegressor                        0.44       0.46 1436.27   \n",
            "ExtraTreeRegressor                           0.35       0.38 1543.28   \n",
            "OrthogonalMatchingPursuit                    0.29       0.31 1623.28   \n",
            "SVR                                         -0.05      -0.01 1966.27   \n",
            "DummyRegressor                              -0.05      -0.01 1969.70   \n",
            "NuSVR                                       -0.05      -0.02 1972.87   \n",
            "GaussianProcessRegressor                    -2.10      -1.98 3381.15   \n",
            "LinearSVR                                   -4.03      -3.85 4309.20   \n",
            "KernelRidge                                 -4.45      -4.25 4485.34   \n",
            "MLPRegressor                                -4.76      -4.55 4611.69   \n",
            "\n",
            "                               Time Taken  \n",
            "Model                                      \n",
            "ExtraTreesRegressor                  0.21  \n",
            "HistGradientBoostingRegressor        0.29  \n",
            "LGBMRegressor                        0.06  \n",
            "RandomForestRegressor                0.31  \n",
            "GradientBoostingRegressor            0.15  \n",
            "Lars                                 0.03  \n",
            "TransformedTargetRegressor           0.01  \n",
            "LinearRegression                     0.02  \n",
            "Lasso                                0.02  \n",
            "Ridge                                0.01  \n",
            "OrthogonalMatchingPursuitCV          0.03  \n",
            "BayesianRidge                        0.01  \n",
            "SGDRegressor                         0.02  \n",
            "LassoLarsIC                          0.01  \n",
            "RidgeCV                              0.02  \n",
            "LassoLarsCV                          0.03  \n",
            "LarsCV                               0.07  \n",
            "LassoLars                            0.02  \n",
            "LassoCV                              0.08  \n",
            "KNeighborsRegressor                  0.02  \n",
            "PoissonRegressor                     0.02  \n",
            "HuberRegressor                       0.02  \n",
            "BaggingRegressor                     0.05  \n",
            "PassiveAggressiveRegressor           0.02  \n",
            "AdaBoostRegressor                    0.11  \n",
            "XGBRegressor                         0.10  \n",
            "RANSACRegressor                      0.10  \n",
            "ElasticNet                           0.01  \n",
            "GammaRegressor                       0.01  \n",
            "TweedieRegressor                     0.02  \n",
            "GeneralizedLinearRegressor           0.02  \n",
            "ElasticNetCV                         0.09  \n",
            "DecisionTreeRegressor                0.02  \n",
            "ExtraTreeRegressor                   0.01  \n",
            "OrthogonalMatchingPursuit            0.03  \n",
            "SVR                                  0.03  \n",
            "DummyRegressor                       0.01  \n",
            "NuSVR                                0.11  \n",
            "GaussianProcessRegressor             0.06  \n",
            "LinearSVR                            0.02  \n",
            "KernelRidge                          0.05  \n",
            "MLPRegressor                         1.07  \n"
          ]
        },
        {
          "output_type": "stream",
          "name": "stderr",
          "text": [
            "\n"
          ]
        }
      ],
      "source": [
        "reg = LazyRegressor(ignore_warnings=False, custom_metric=None)\n",
        "models, prediction = reg.fit(X_train,X_test, Y_train, Y_test)\n",
        "print(models)"
      ]
    },
    {
      "cell_type": "markdown",
      "source": [
        "##Extra Trees for Regression"
      ],
      "metadata": {
        "id": "BLNysurjXqSB"
      }
    },
    {
      "cell_type": "code",
      "source": [
        "from sklearn.ensemble import ExtraTreesRegressor\n",
        "from sklearn.datasets import load_boston\n",
        "from sklearn.model_selection import train_test_split\n",
        "from sklearn.model_selection import cross_val_score\n",
        "from sklearn.metrics import mean_squared_error\n",
        "import matplotlib.pyplot as plt"
      ],
      "metadata": {
        "id": "eChH8pW0ZLM9"
      },
      "execution_count": 430,
      "outputs": []
    },
    {
      "cell_type": "code",
      "source": [
        "etr = ExtraTreesRegressor()\n",
        "print(etr)\n",
        "\n",
        "ExtraTreesRegressor(bootstrap=False, criterion='mse', max_depth=None,\n",
        "                    max_features='auto', max_leaf_nodes=None,\n",
        "                    min_impurity_decrease=0.0, min_impurity_split=None,\n",
        "                    min_samples_leaf=1, min_samples_split=2,\n",
        "                    min_weight_fraction_leaf=0.0, n_estimators='warn',\n",
        "                    n_jobs=None, oob_score=False, random_state=None, verbose=0,\n",
        "                    warm_start=False)"
      ],
      "metadata": {
        "colab": {
          "base_uri": "https://localhost:8080/"
        },
        "id": "8cK1ZUhGZPnS",
        "outputId": "415856df-72d8-4e1d-b5e0-2cb913cccaa7"
      },
      "execution_count": 431,
      "outputs": [
        {
          "output_type": "stream",
          "name": "stdout",
          "text": [
            "ExtraTreesRegressor()\n"
          ]
        },
        {
          "output_type": "execute_result",
          "data": {
            "text/plain": [
              "ExtraTreesRegressor(n_estimators='warn')"
            ]
          },
          "metadata": {},
          "execution_count": 431
        }
      ]
    },
    {
      "cell_type": "code",
      "source": [
        "etr.fit(X_train,Y_train)\n",
        "\n",
        "score = etr.score(X_train, Y_train)\n",
        "print(\"Score: \", score)"
      ],
      "metadata": {
        "colab": {
          "base_uri": "https://localhost:8080/"
        },
        "id": "qSNrawD2ZV0i",
        "outputId": "d7ec1924-d273-447f-ffc7-a1ed87a7cdf2"
      },
      "execution_count": 432,
      "outputs": [
        {
          "output_type": "stream",
          "name": "stdout",
          "text": [
            "Score:  0.9999999950841955\n"
          ]
        }
      ]
    },
    {
      "cell_type": "code",
      "source": [
        "cv_scores = cross_val_score(etr, X_train,Y_train,cv=10)\n",
        "print(\"Mean cross-validataion score: %.2f\" % cv_scores.mean())"
      ],
      "metadata": {
        "colab": {
          "base_uri": "https://localhost:8080/"
        },
        "id": "GUmG6b1uZgX7",
        "outputId": "14634a97-c331-4ef2-dd1a-b0bc0f893596"
      },
      "execution_count": 433,
      "outputs": [
        {
          "output_type": "stream",
          "name": "stdout",
          "text": [
            "Mean cross-validataion score: 0.72\n"
          ]
        }
      ]
    },
    {
      "cell_type": "markdown",
      "source": [
        "Predicting and accuracy check"
      ],
      "metadata": {
        "id": "ijauZYiIZqVs"
      }
    },
    {
      "cell_type": "code",
      "source": [
        "ypred = etr.predict(X_test)\n",
        "\n",
        "mse = mean_squared_error(Y_test, ypred)\n",
        "print(\"MSE: %.2f\" % mse)\n",
        "print(\"RMSE: %.2f\" % mse**(0.5))"
      ],
      "metadata": {
        "colab": {
          "base_uri": "https://localhost:8080/"
        },
        "id": "v3Tp0GBiZrrA",
        "outputId": "27d30746-782b-4ed2-c89d-ef96760a2af5"
      },
      "execution_count": 434,
      "outputs": [
        {
          "output_type": "stream",
          "name": "stdout",
          "text": [
            "MSE: 919394.13\n",
            "RMSE: 958.85\n"
          ]
        }
      ]
    },
    {
      "cell_type": "code",
      "source": [
        "x_ax = range(len(Y_test))\n",
        "plt.plot(x_ax, Y_test, lw=0.6, color=\"blue\", label=\"original\")\n",
        "plt.plot(x_ax, ypred, lw=0.8, color=\"red\", label=\"predicted\")\n",
        "plt.title(\"Rental Bike\")\n",
        "plt.legend()\n",
        "plt.show()"
      ],
      "metadata": {
        "colab": {
          "base_uri": "https://localhost:8080/",
          "height": 284
        },
        "id": "56aaRJA4aJ4M",
        "outputId": "920df88f-7883-4c85-dfa2-061ba522e41f"
      },
      "execution_count": 435,
      "outputs": [
        {
          "output_type": "display_data",
          "data": {
            "text/plain": [
              "<Figure size 432x288 with 1 Axes>"
            ],
            "image/png": "[encoded data removed]"
          },
          "metadata": {}
        }
      ]
    },
    {
      "cell_type": "markdown",
      "source": [
        "##XGB Regressor"
      ],
      "metadata": {
        "id": "DbdxB4PWXp0k"
      }
    },
    {
      "cell_type": "code",
      "source": [
        "from xgboost import XGBRegressor\n",
        "xgb=XGBRegressor(random_state=42)\n",
        "\n",
        "xgb.fit(X_train,Y_train)\n",
        "\n",
        "print(\"Score the X-train with Y-train is : \", xgb.score(X_train,Y_train))\n",
        "print(\"Score the X-test  with Y-test  is : \", xgb.score(X_test,Y_test))"
      ],
      "metadata": {
        "colab": {
          "base_uri": "https://localhost:8080/"
        },
        "id": "dnAoyVAXXq4t",
        "outputId": "26c38df2-7f62-4a33-d950-17e71bbeab98"
      },
      "execution_count": 436,
      "outputs": [
        {
          "output_type": "stream",
          "name": "stdout",
          "text": [
            "Score the X-train with Y-train is :  0.9998452428646284\n",
            "Score the X-test  with Y-test  is :  0.6574449205129977\n"
          ]
        }
      ]
    },
    {
      "cell_type": "markdown",
      "source": [
        "Hyperparameter tuning"
      ],
      "metadata": {
        "id": "V_pKedmwX_fA"
      }
    },
    {
      "cell_type": "code",
      "source": [
        "from sklearn.ensemble import GradientBoostingRegressor\n",
        "gbr = GradientBoostingRegressor(random_state=42)"
      ],
      "metadata": {
        "id": "8nH7MC_uYetz"
      },
      "execution_count": 437,
      "outputs": []
    },
    {
      "cell_type": "code",
      "source": [
        "from sklearn.model_selection import GridSearchCV\n",
        "param_grid = {'learning_rate':[0.5,0.10,0.01,0.1],\n",
        "             'n_estimators':[25,50,75,100,125],\n",
        "              'max_depth':[5,7,9,10],\n",
        "              'subsample':[1,2],\n",
        "              'min_samples_split':[1,2,3],\n",
        "              'min_samples_leaf':[1,1.5,2],\n",
        "              'max_depth':[5,7,9,10]\n",
        "              \n",
        "             }\n",
        "\n",
        "g_search = GridSearchCV(estimator = gbr, param_grid = param_grid,cv = 3, n_jobs = 1,verbose = True, return_train_score=True)\n",
        "g_search.fit(X_train, Y_train);\n",
        "\n",
        "print(g_search.best_params_)\n",
        "print(g_search.score(X_test, Y_test))"
      ],
      "metadata": {
        "colab": {
          "base_uri": "https://localhost:8080/"
        },
        "id": "gCxVGda7X9KH",
        "outputId": "605b5835-a686-403e-9eac-8edbffd68369"
      },
      "execution_count": 438,
      "outputs": [
        {
          "output_type": "stream",
          "name": "stdout",
          "text": [
            "Fitting 3 folds for each of 1440 candidates, totalling 4320 fits\n"
          ]
        },
        {
          "output_type": "stream",
          "name": "stderr",
          "text": [
            "[Parallel(n_jobs=1)]: Using backend SequentialBackend with 1 concurrent workers.\n"
          ]
        },
        {
          "output_type": "stream",
          "name": "stdout",
          "text": [
            "{'learning_rate': 0.1, 'max_depth': 5, 'min_samples_leaf': 1, 'min_samples_split': 2, 'n_estimators': 50, 'subsample': 1}\n",
            "0.6971589474118323\n"
          ]
        },
        {
          "output_type": "stream",
          "name": "stderr",
          "text": [
            "[Parallel(n_jobs=1)]: Done 4320 out of 4320 | elapsed:  1.9min finished\n"
          ]
        }
      ]
    },
    {
      "cell_type": "code",
      "source": [
        "y_pred_gbr = g_search.predict(X_test)"
      ],
      "metadata": {
        "id": "kwRKTlwmYrRz"
      },
      "execution_count": 439,
      "outputs": []
    },
    {
      "cell_type": "code",
      "source": [
        "sns.residplot(Y_test,y_pred_gbr)"
      ],
      "metadata": {
        "colab": {
          "base_uri": "https://localhost:8080/",
          "height": 302
        },
        "id": "eT5CExJSYv2t",
        "outputId": "c3dcd0b2-71eb-4a04-b3d2-c9d467e69e9e"
      },
      "execution_count": 440,
      "outputs": [
        {
          "output_type": "execute_result",
          "data": {
            "text/plain": [
              "<AxesSubplot:xlabel='Jumlah'>"
            ]
          },
          "metadata": {},
          "execution_count": 440
        },
        {
          "output_type": "display_data",
          "data": {
            "text/plain": [
              "<Figure size 432x288 with 1 Axes>"
            ],
            "image/png": "[encoded data removed]"
          },
          "metadata": {}
        }
      ]
    },
    {
      "cell_type": "code",
      "source": [
        "print(\"R2 Score Gradient Boost Regressor\" ,r2_score(Y_test,y_pred_gbr))"
      ],
      "metadata": {
        "colab": {
          "base_uri": "https://localhost:8080/"
        },
        "id": "2_fRlbpqY7HS",
        "outputId": "8452e9ad-ff2e-47ab-946d-4560531c598a"
      },
      "execution_count": 441,
      "outputs": [
        {
          "output_type": "stream",
          "name": "stdout",
          "text": [
            "R2 Score Gradient Boost Regressor 0.6971589474118323\n"
          ]
        }
      ]
    },
    {
      "cell_type": "code",
      "source": [
        "print(\"MSE: \" ,mean_squared_error(np.log(Y_test),np.log(y_pred_gbr)))"
      ],
      "metadata": {
        "colab": {
          "base_uri": "https://localhost:8080/"
        },
        "id": "cW_aFHYeZAtz",
        "outputId": "b76d72c7-3a12-4b76-aefb-0d6741ae9a1f"
      },
      "execution_count": 442,
      "outputs": [
        {
          "output_type": "stream",
          "name": "stdout",
          "text": [
            "MSE:  0.25115004590004814\n"
          ]
        }
      ]
    },
    {
      "cell_type": "markdown",
      "source": [
        "##Deploy"
      ],
      "metadata": {
        "id": "4GDA67EUZVds"
      }
    },
    {
      "cell_type": "markdown",
      "source": [
        "Karena hasil dari gradient boost regressor yang terbaik maka saya akan gunakan itu untuk modeling"
      ],
      "metadata": {
        "id": "xItUDLM7ZfAa"
      }
    },
    {
      "cell_type": "code",
      "source": [
        "from joblib import dump,load\n",
        "dump(g_search, 'Bike_count_prediction.joblib')"
      ],
      "metadata": {
        "colab": {
          "base_uri": "https://localhost:8080/"
        },
        "id": "CLz49COwZYow",
        "outputId": "10447760-8727-42f1-9133-815d43418915"
      },
      "execution_count": 443,
      "outputs": [
        {
          "output_type": "execute_result",
          "data": {
            "text/plain": [
              "['Bike_count_prediction.joblib']"
            ]
          },
          "metadata": {},
          "execution_count": 443
        }
      ]
    }
  ],
  "metadata": {
    "colab": {
      "collapsed_sections": [],
      "provenance": [],
      "toc_visible": true
    },
    "kernelspec": {
      "display_name": "Python 3",
      "name": "python3"
    },
    "language_info": {
      "name": "python"
    }
  },
  "nbformat": 4,
  "nbformat_minor": 0
}